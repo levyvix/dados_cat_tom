{
 "cells": [
  {
   "cell_type": "code",
   "execution_count": 1,
   "id": "babae8a7",
   "metadata": {},
   "outputs": [],
   "source": [
    "import pandas as pd\n",
    "\n",
    "from statsmodels.stats.contingency_tables import mcnemar\n",
    "from statsmodels.stats.inter_rater import cohens_kappa\n",
    "\n",
    "# statsmodels.stats.contingency_tables.mcnema\n",
    "from sklearn.metrics import cohen_kappa_score\n",
    "from scipy import stats\n",
    "\n",
    "import matplotlib.pyplot as plt\n"
   ]
  },
  {
   "cell_type": "code",
   "execution_count": 2,
   "id": "2e39bb3b",
   "metadata": {},
   "outputs": [],
   "source": [
    "df_raw = pd.read_excel(\n",
    "    \"ANÁLISE DA PERCEPÇÃO ESTÉTICA DE ESPÉCIMES ANATÔMICOS PLASTINADOS COLORIDOS E NÃO COLORIDOS - COMPLENTO (1) - Respostas ao formulário 1.xlsx\"\n",
    ")\n"
   ]
  },
  {
   "cell_type": "code",
   "execution_count": 3,
   "id": "561c034f",
   "metadata": {},
   "outputs": [],
   "source": [
    "def tweak_plastinacao(df):\n",
    "    \n",
    "    df.columns = [\n",
    "        \"data_hora\",\n",
    "        \"data\",\n",
    "        \"n_tons\",\n",
    "        \"identificacao\",\n",
    "        \"conhecia_plastificacao\",\n",
    "        \"contato_especime\",\n",
    "        \"caso_sim\",\n",
    "        \"prefere_colorido\",\n",
    "        \"colorido_facilita_identificacao\",\n",
    "        \"precebeu_diferenca_tonalidade_colorido\",\n",
    "        \"ratos_wistar_tom\",\n",
    "        \"comente_ratos\",\n",
    "        \"animais_silvestres_tom\",\n",
    "        \"comente_animais_silvestres\",\n",
    "        \"percepcao_nao_coloridos\",\n",
    "        \"percepcao_coloridos\",\n",
    "        \"interessante_plastinados\",\n",
    "        \"anterior_seja_positiva\",\n",
    "        \"comentarios\",\n",
    "    ]\n",
    "    \n",
    "    # juntar categorias em publico geral e publico anatomia\n",
    "\n",
    "    df[\"publico\"] = (\n",
    "        df[\"identificacao\"]\n",
    "        .isin([\"Aluno de Anatomia\", \"Docente de Anatomia\", \"Técnico de Anatomia\"])\n",
    "        .map({False: \"Publico Geral\", True: \"Publico Anatomia\"})\n",
    "    )\n",
    "    \n",
    "    \n",
    "    return df\n",
    "\n"
   ]
  },
  {
   "cell_type": "code",
   "execution_count": 4,
   "id": "ed212a18",
   "metadata": {},
   "outputs": [],
   "source": [
    "df = tweak_plastinacao(df_raw)"
   ]
  },
  {
   "attachments": {},
   "cell_type": "markdown",
   "id": "9f57a04d",
   "metadata": {},
   "source": [
    "### Ratos Wistar (3 tons)\n",
    "\n",
    "entre as pessoas que viram só 3 tons, quantas pessoas escolheram cada um dos 3 tons, entre publico geral e anatomia"
   ]
  },
  {
   "cell_type": "code",
   "execution_count": 5,
   "id": "d8affaaf",
   "metadata": {
    "scrolled": true
   },
   "outputs": [
    {
     "data": {
      "text/html": [
       "<div>\n",
       "<style scoped>\n",
       "    .dataframe tbody tr th:only-of-type {\n",
       "        vertical-align: middle;\n",
       "    }\n",
       "\n",
       "    .dataframe tbody tr th {\n",
       "        vertical-align: top;\n",
       "    }\n",
       "\n",
       "    .dataframe thead th {\n",
       "        text-align: right;\n",
       "    }\n",
       "</style>\n",
       "<table border=\"1\" class=\"dataframe\">\n",
       "  <thead>\n",
       "    <tr style=\"text-align: right;\">\n",
       "      <th>ratos_wistar_tom</th>\n",
       "      <th>Tom 1</th>\n",
       "      <th>Tom 2</th>\n",
       "      <th>Tom 3</th>\n",
       "    </tr>\n",
       "    <tr>\n",
       "      <th>publico</th>\n",
       "      <th></th>\n",
       "      <th></th>\n",
       "      <th></th>\n",
       "    </tr>\n",
       "  </thead>\n",
       "  <tbody>\n",
       "    <tr>\n",
       "      <th>Publico Anatomia</th>\n",
       "      <td>0.118182</td>\n",
       "      <td>0.436364</td>\n",
       "      <td>0.445455</td>\n",
       "    </tr>\n",
       "    <tr>\n",
       "      <th>Publico Geral</th>\n",
       "      <td>0.098039</td>\n",
       "      <td>0.464052</td>\n",
       "      <td>0.437908</td>\n",
       "    </tr>\n",
       "  </tbody>\n",
       "</table>\n",
       "</div>"
      ],
      "text/plain": [
       "ratos_wistar_tom     Tom 1     Tom 2     Tom 3\n",
       "publico                                       \n",
       "Publico Anatomia  0.118182  0.436364  0.445455\n",
       "Publico Geral     0.098039  0.464052  0.437908"
      ]
     },
     "execution_count": 5,
     "metadata": {},
     "output_type": "execute_result"
    }
   ],
   "source": [
    "df.query(\"n_tons == 3\").groupby([\"publico\"])[\"ratos_wistar_tom\"].value_counts(\n",
    "    normalize=True\n",
    ").unstack()\n"
   ]
  },
  {
   "attachments": {},
   "cell_type": "markdown",
   "id": "b19616f1",
   "metadata": {},
   "source": [
    "### Ratos Wistar (5 tons)\n",
    "\n",
    "entre as pessoas que viram só 5  tons, quantas pessoas escolheram cada um dos 5 tons, entre publico geral e anatomia"
   ]
  },
  {
   "cell_type": "code",
   "execution_count": 6,
   "id": "6eb3c10f",
   "metadata": {},
   "outputs": [
    {
     "data": {
      "text/html": [
       "<div>\n",
       "<style scoped>\n",
       "    .dataframe tbody tr th:only-of-type {\n",
       "        vertical-align: middle;\n",
       "    }\n",
       "\n",
       "    .dataframe tbody tr th {\n",
       "        vertical-align: top;\n",
       "    }\n",
       "\n",
       "    .dataframe thead th {\n",
       "        text-align: right;\n",
       "    }\n",
       "</style>\n",
       "<table border=\"1\" class=\"dataframe\">\n",
       "  <thead>\n",
       "    <tr style=\"text-align: right;\">\n",
       "      <th>ratos_wistar_tom</th>\n",
       "      <th>Tom 1</th>\n",
       "      <th>Tom 2</th>\n",
       "      <th>Tom 3</th>\n",
       "      <th>Tom 4</th>\n",
       "      <th>Tom 5</th>\n",
       "    </tr>\n",
       "    <tr>\n",
       "      <th>publico</th>\n",
       "      <th></th>\n",
       "      <th></th>\n",
       "      <th></th>\n",
       "      <th></th>\n",
       "      <th></th>\n",
       "    </tr>\n",
       "  </thead>\n",
       "  <tbody>\n",
       "    <tr>\n",
       "      <th>Publico Anatomia</th>\n",
       "      <td>0.065693</td>\n",
       "      <td>0.240876</td>\n",
       "      <td>0.496350</td>\n",
       "      <td>0.167883</td>\n",
       "      <td>0.029197</td>\n",
       "    </tr>\n",
       "    <tr>\n",
       "      <th>Publico Geral</th>\n",
       "      <td>0.083682</td>\n",
       "      <td>0.347280</td>\n",
       "      <td>0.313808</td>\n",
       "      <td>0.138075</td>\n",
       "      <td>0.117155</td>\n",
       "    </tr>\n",
       "  </tbody>\n",
       "</table>\n",
       "</div>"
      ],
      "text/plain": [
       "ratos_wistar_tom     Tom 1     Tom 2     Tom 3     Tom 4     Tom 5\n",
       "publico                                                           \n",
       "Publico Anatomia  0.065693  0.240876  0.496350  0.167883  0.029197\n",
       "Publico Geral     0.083682  0.347280  0.313808  0.138075  0.117155"
      ]
     },
     "execution_count": 6,
     "metadata": {},
     "output_type": "execute_result"
    }
   ],
   "source": [
    "df.query(\"n_tons == 5\").groupby([\"publico\"])[\"ratos_wistar_tom\"].value_counts(\n",
    "    normalize=True\n",
    ").unstack()\n"
   ]
  },
  {
   "attachments": {},
   "cell_type": "markdown",
   "id": "812dd3e5",
   "metadata": {},
   "source": [
    "### Animais Silvestres (3 tons)\n",
    "\n",
    "entre as pessoas que viram só 3 tons, quantas pessoas escolheram cada um dos 3 tons, entre publico geral e anatomia"
   ]
  },
  {
   "cell_type": "code",
   "execution_count": 7,
   "id": "8a87c436",
   "metadata": {},
   "outputs": [
    {
     "data": {
      "text/html": [
       "<div>\n",
       "<style scoped>\n",
       "    .dataframe tbody tr th:only-of-type {\n",
       "        vertical-align: middle;\n",
       "    }\n",
       "\n",
       "    .dataframe tbody tr th {\n",
       "        vertical-align: top;\n",
       "    }\n",
       "\n",
       "    .dataframe thead th {\n",
       "        text-align: right;\n",
       "    }\n",
       "</style>\n",
       "<table border=\"1\" class=\"dataframe\">\n",
       "  <thead>\n",
       "    <tr style=\"text-align: right;\">\n",
       "      <th>animais_silvestres_tom</th>\n",
       "      <th>Tom 1</th>\n",
       "      <th>Tom 2</th>\n",
       "      <th>Tom 3</th>\n",
       "    </tr>\n",
       "    <tr>\n",
       "      <th>publico</th>\n",
       "      <th></th>\n",
       "      <th></th>\n",
       "      <th></th>\n",
       "    </tr>\n",
       "  </thead>\n",
       "  <tbody>\n",
       "    <tr>\n",
       "      <th>Publico Anatomia</th>\n",
       "      <td>0.236364</td>\n",
       "      <td>0.309091</td>\n",
       "      <td>0.454545</td>\n",
       "    </tr>\n",
       "    <tr>\n",
       "      <th>Publico Geral</th>\n",
       "      <td>0.241830</td>\n",
       "      <td>0.385621</td>\n",
       "      <td>0.372549</td>\n",
       "    </tr>\n",
       "  </tbody>\n",
       "</table>\n",
       "</div>"
      ],
      "text/plain": [
       "animais_silvestres_tom     Tom 1     Tom 2     Tom 3\n",
       "publico                                             \n",
       "Publico Anatomia        0.236364  0.309091  0.454545\n",
       "Publico Geral           0.241830  0.385621  0.372549"
      ]
     },
     "execution_count": 7,
     "metadata": {},
     "output_type": "execute_result"
    }
   ],
   "source": [
    "df.query(\"n_tons == 3\").groupby([\"publico\"])[\"animais_silvestres_tom\"].value_counts(\n",
    "    normalize=True\n",
    ").unstack()\n"
   ]
  },
  {
   "attachments": {},
   "cell_type": "markdown",
   "id": "453b078d",
   "metadata": {},
   "source": [
    "### Animais Silvestres (5 tons)\n",
    "\n",
    "entre as pessoas que viram só 5 tons, quantas pessoas escolheram cada um dos 5 tons, entre publico geral e anatomia"
   ]
  },
  {
   "cell_type": "code",
   "execution_count": 8,
   "id": "22677410",
   "metadata": {},
   "outputs": [
    {
     "data": {
      "text/html": [
       "<div>\n",
       "<style scoped>\n",
       "    .dataframe tbody tr th:only-of-type {\n",
       "        vertical-align: middle;\n",
       "    }\n",
       "\n",
       "    .dataframe tbody tr th {\n",
       "        vertical-align: top;\n",
       "    }\n",
       "\n",
       "    .dataframe thead th {\n",
       "        text-align: right;\n",
       "    }\n",
       "</style>\n",
       "<table border=\"1\" class=\"dataframe\">\n",
       "  <thead>\n",
       "    <tr style=\"text-align: right;\">\n",
       "      <th>animais_silvestres_tom</th>\n",
       "      <th>Tom 1</th>\n",
       "      <th>Tom 2</th>\n",
       "      <th>Tom 3</th>\n",
       "      <th>Tom 4</th>\n",
       "      <th>Tom 5</th>\n",
       "    </tr>\n",
       "    <tr>\n",
       "      <th>publico</th>\n",
       "      <th></th>\n",
       "      <th></th>\n",
       "      <th></th>\n",
       "      <th></th>\n",
       "      <th></th>\n",
       "    </tr>\n",
       "  </thead>\n",
       "  <tbody>\n",
       "    <tr>\n",
       "      <th>Publico Anatomia</th>\n",
       "      <td>0.116788</td>\n",
       "      <td>0.313869</td>\n",
       "      <td>0.306569</td>\n",
       "      <td>0.211679</td>\n",
       "      <td>0.051095</td>\n",
       "    </tr>\n",
       "    <tr>\n",
       "      <th>Publico Geral</th>\n",
       "      <td>0.175732</td>\n",
       "      <td>0.200837</td>\n",
       "      <td>0.301255</td>\n",
       "      <td>0.184100</td>\n",
       "      <td>0.138075</td>\n",
       "    </tr>\n",
       "  </tbody>\n",
       "</table>\n",
       "</div>"
      ],
      "text/plain": [
       "animais_silvestres_tom     Tom 1     Tom 2     Tom 3     Tom 4     Tom 5\n",
       "publico                                                                 \n",
       "Publico Anatomia        0.116788  0.313869  0.306569  0.211679  0.051095\n",
       "Publico Geral           0.175732  0.200837  0.301255  0.184100  0.138075"
      ]
     },
     "execution_count": 8,
     "metadata": {},
     "output_type": "execute_result"
    }
   ],
   "source": [
    "df.query(\"n_tons == 5\").groupby([\"publico\"])[\"animais_silvestres_tom\"].value_counts(\n",
    "    normalize=True\n",
    ").unstack()\n"
   ]
  },
  {
   "attachments": {},
   "cell_type": "markdown",
   "id": "4a709b55",
   "metadata": {},
   "source": [
    "### Comparacao animais 3 tons\n",
    "\n",
    "\n",
    "comparação cruzada entre as pessoas que so viram 3 tons,  \"sera que as pessoas que escolheram 3 para ratos, escolheram 3 para animais silvestres?\" dividio entre publico geral e anatomia"
   ]
  },
  {
   "cell_type": "code",
   "execution_count": 9,
   "id": "d4ace2a6",
   "metadata": {
    "scrolled": true
   },
   "outputs": [
    {
     "data": {
      "text/html": [
       "<div>\n",
       "<style scoped>\n",
       "    .dataframe tbody tr th:only-of-type {\n",
       "        vertical-align: middle;\n",
       "    }\n",
       "\n",
       "    .dataframe tbody tr th {\n",
       "        vertical-align: top;\n",
       "    }\n",
       "\n",
       "    .dataframe thead th {\n",
       "        text-align: right;\n",
       "    }\n",
       "</style>\n",
       "<table border=\"1\" class=\"dataframe\">\n",
       "  <thead>\n",
       "    <tr style=\"text-align: right;\">\n",
       "      <th></th>\n",
       "      <th>ratos_wistar_tom</th>\n",
       "      <th>Tom 1</th>\n",
       "      <th>Tom 2</th>\n",
       "      <th>Tom 3</th>\n",
       "    </tr>\n",
       "    <tr>\n",
       "      <th>publico</th>\n",
       "      <th>animais_silvestres_tom</th>\n",
       "      <th></th>\n",
       "      <th></th>\n",
       "      <th></th>\n",
       "    </tr>\n",
       "  </thead>\n",
       "  <tbody>\n",
       "    <tr>\n",
       "      <th rowspan=\"3\" valign=\"top\">Publico Anatomia</th>\n",
       "      <th>Tom 1</th>\n",
       "      <td>7.0</td>\n",
       "      <td>11.0</td>\n",
       "      <td>8.0</td>\n",
       "    </tr>\n",
       "    <tr>\n",
       "      <th>Tom 2</th>\n",
       "      <td>5.0</td>\n",
       "      <td>22.0</td>\n",
       "      <td>7.0</td>\n",
       "    </tr>\n",
       "    <tr>\n",
       "      <th>Tom 3</th>\n",
       "      <td>1.0</td>\n",
       "      <td>15.0</td>\n",
       "      <td>34.0</td>\n",
       "    </tr>\n",
       "    <tr>\n",
       "      <th rowspan=\"3\" valign=\"top\">Publico Geral</th>\n",
       "      <th>Tom 1</th>\n",
       "      <td>11.0</td>\n",
       "      <td>14.0</td>\n",
       "      <td>12.0</td>\n",
       "    </tr>\n",
       "    <tr>\n",
       "      <th>Tom 2</th>\n",
       "      <td>4.0</td>\n",
       "      <td>46.0</td>\n",
       "      <td>9.0</td>\n",
       "    </tr>\n",
       "    <tr>\n",
       "      <th>Tom 3</th>\n",
       "      <td>0.0</td>\n",
       "      <td>11.0</td>\n",
       "      <td>46.0</td>\n",
       "    </tr>\n",
       "  </tbody>\n",
       "</table>\n",
       "</div>"
      ],
      "text/plain": [
       "ratos_wistar_tom                         Tom 1  Tom 2  Tom 3\n",
       "publico          animais_silvestres_tom                     \n",
       "Publico Anatomia Tom 1                     7.0   11.0    8.0\n",
       "                 Tom 2                     5.0   22.0    7.0\n",
       "                 Tom 3                     1.0   15.0   34.0\n",
       "Publico Geral    Tom 1                    11.0   14.0   12.0\n",
       "                 Tom 2                     4.0   46.0    9.0\n",
       "                 Tom 3                     0.0   11.0   46.0"
      ]
     },
     "execution_count": 9,
     "metadata": {},
     "output_type": "execute_result"
    }
   ],
   "source": [
    "df.query(\"n_tons == 3\").groupby([\"publico\"])[\n",
    "    [\"animais_silvestres_tom\", \"ratos_wistar_tom\"]\n",
    "].value_counts(normalize=False).unstack().fillna(0)\n"
   ]
  },
  {
   "attachments": {},
   "cell_type": "markdown",
   "id": "fcca4cf6",
   "metadata": {},
   "source": [
    "### Comparacao animais 5 tons\n",
    "\n",
    "\n",
    "comparação cruzada entre as pessoas que so viram 5 tons,  \"sera que as pessoas que escolheram 3 para ratos, escolheram 3 para animais silvestres?\" dividio entre publico geral e anatomia"
   ]
  },
  {
   "cell_type": "code",
   "execution_count": 10,
   "id": "9d3b1512",
   "metadata": {
    "scrolled": false
   },
   "outputs": [
    {
     "data": {
      "text/html": [
       "<div>\n",
       "<style scoped>\n",
       "    .dataframe tbody tr th:only-of-type {\n",
       "        vertical-align: middle;\n",
       "    }\n",
       "\n",
       "    .dataframe tbody tr th {\n",
       "        vertical-align: top;\n",
       "    }\n",
       "\n",
       "    .dataframe thead th {\n",
       "        text-align: right;\n",
       "    }\n",
       "</style>\n",
       "<table border=\"1\" class=\"dataframe\">\n",
       "  <thead>\n",
       "    <tr style=\"text-align: right;\">\n",
       "      <th></th>\n",
       "      <th>ratos_wistar_tom</th>\n",
       "      <th>Tom 1</th>\n",
       "      <th>Tom 2</th>\n",
       "      <th>Tom 3</th>\n",
       "      <th>Tom 4</th>\n",
       "      <th>Tom 5</th>\n",
       "    </tr>\n",
       "    <tr>\n",
       "      <th>publico</th>\n",
       "      <th>animais_silvestres_tom</th>\n",
       "      <th></th>\n",
       "      <th></th>\n",
       "      <th></th>\n",
       "      <th></th>\n",
       "      <th></th>\n",
       "    </tr>\n",
       "  </thead>\n",
       "  <tbody>\n",
       "    <tr>\n",
       "      <th rowspan=\"5\" valign=\"top\">Publico Anatomia</th>\n",
       "      <th>Tom 1</th>\n",
       "      <td>2.0</td>\n",
       "      <td>3.0</td>\n",
       "      <td>8.0</td>\n",
       "      <td>2.0</td>\n",
       "      <td>1.0</td>\n",
       "    </tr>\n",
       "    <tr>\n",
       "      <th>Tom 2</th>\n",
       "      <td>3.0</td>\n",
       "      <td>16.0</td>\n",
       "      <td>20.0</td>\n",
       "      <td>3.0</td>\n",
       "      <td>1.0</td>\n",
       "    </tr>\n",
       "    <tr>\n",
       "      <th>Tom 3</th>\n",
       "      <td>1.0</td>\n",
       "      <td>10.0</td>\n",
       "      <td>22.0</td>\n",
       "      <td>9.0</td>\n",
       "      <td>0.0</td>\n",
       "    </tr>\n",
       "    <tr>\n",
       "      <th>Tom 4</th>\n",
       "      <td>3.0</td>\n",
       "      <td>3.0</td>\n",
       "      <td>17.0</td>\n",
       "      <td>6.0</td>\n",
       "      <td>0.0</td>\n",
       "    </tr>\n",
       "    <tr>\n",
       "      <th>Tom 5</th>\n",
       "      <td>0.0</td>\n",
       "      <td>1.0</td>\n",
       "      <td>1.0</td>\n",
       "      <td>3.0</td>\n",
       "      <td>2.0</td>\n",
       "    </tr>\n",
       "    <tr>\n",
       "      <th rowspan=\"5\" valign=\"top\">Publico Geral</th>\n",
       "      <th>Tom 1</th>\n",
       "      <td>9.0</td>\n",
       "      <td>17.0</td>\n",
       "      <td>10.0</td>\n",
       "      <td>3.0</td>\n",
       "      <td>3.0</td>\n",
       "    </tr>\n",
       "    <tr>\n",
       "      <th>Tom 2</th>\n",
       "      <td>4.0</td>\n",
       "      <td>28.0</td>\n",
       "      <td>11.0</td>\n",
       "      <td>2.0</td>\n",
       "      <td>3.0</td>\n",
       "    </tr>\n",
       "    <tr>\n",
       "      <th>Tom 3</th>\n",
       "      <td>3.0</td>\n",
       "      <td>18.0</td>\n",
       "      <td>39.0</td>\n",
       "      <td>8.0</td>\n",
       "      <td>4.0</td>\n",
       "    </tr>\n",
       "    <tr>\n",
       "      <th>Tom 4</th>\n",
       "      <td>2.0</td>\n",
       "      <td>19.0</td>\n",
       "      <td>11.0</td>\n",
       "      <td>9.0</td>\n",
       "      <td>3.0</td>\n",
       "    </tr>\n",
       "    <tr>\n",
       "      <th>Tom 5</th>\n",
       "      <td>2.0</td>\n",
       "      <td>1.0</td>\n",
       "      <td>4.0</td>\n",
       "      <td>11.0</td>\n",
       "      <td>15.0</td>\n",
       "    </tr>\n",
       "  </tbody>\n",
       "</table>\n",
       "</div>"
      ],
      "text/plain": [
       "ratos_wistar_tom                         Tom 1  Tom 2  Tom 3  Tom 4  Tom 5\n",
       "publico          animais_silvestres_tom                                   \n",
       "Publico Anatomia Tom 1                     2.0    3.0    8.0    2.0    1.0\n",
       "                 Tom 2                     3.0   16.0   20.0    3.0    1.0\n",
       "                 Tom 3                     1.0   10.0   22.0    9.0    0.0\n",
       "                 Tom 4                     3.0    3.0   17.0    6.0    0.0\n",
       "                 Tom 5                     0.0    1.0    1.0    3.0    2.0\n",
       "Publico Geral    Tom 1                     9.0   17.0   10.0    3.0    3.0\n",
       "                 Tom 2                     4.0   28.0   11.0    2.0    3.0\n",
       "                 Tom 3                     3.0   18.0   39.0    8.0    4.0\n",
       "                 Tom 4                     2.0   19.0   11.0    9.0    3.0\n",
       "                 Tom 5                     2.0    1.0    4.0   11.0   15.0"
      ]
     },
     "execution_count": 10,
     "metadata": {},
     "output_type": "execute_result"
    }
   ],
   "source": [
    "df.query(\"n_tons == 5\").groupby([\"publico\"])[\n",
    "    [\"animais_silvestres_tom\", \"ratos_wistar_tom\"]\n",
    "].value_counts(normalize=False).unstack().fillna(0)\n"
   ]
  },
  {
   "attachments": {},
   "cell_type": "markdown",
   "id": "1bd25c8c",
   "metadata": {},
   "source": [
    "## Teste Kappa (3 tons)"
   ]
  },
  {
   "cell_type": "code",
   "execution_count": 11,
   "id": "e9a6dd85",
   "metadata": {},
   "outputs": [
    {
     "data": {
      "text/plain": [
       "0.41922779219596595"
      ]
     },
     "execution_count": 11,
     "metadata": {},
     "output_type": "execute_result"
    }
   ],
   "source": [
    "# ratos\n",
    "y1 = df.query(\"n_tons == 3\")[\"ratos_wistar_tom\"].str.extract(r\"(\\d+)\")\n",
    "# animais\n",
    "y2 = df.query(\"n_tons == 3\")[\"animais_silvestres_tom\"].str.extract(r\"(\\d+)\")\n",
    "\n",
    "cohen_kappa_score(y1, y2)\n"
   ]
  },
  {
   "cell_type": "code",
   "execution_count": 12,
   "id": "8512d272",
   "metadata": {},
   "outputs": [
    {
     "name": "stdout",
     "output_type": "stream",
     "text": [
      "Anatomia 3 tons\n",
      "                  Simple Kappa Coefficient\n",
      "              --------------------------------\n",
      "              Kappa                     0.3268\n",
      "              ASE                       0.0699\n",
      "              95% Lower Conf Limit      0.1899\n",
      "              95% Upper Conf Limit      0.4638\n",
      "\n",
      "                 Test of H0: Simple Kappa = 0\n",
      "\n",
      "              ASE under H0              0.0682\n",
      "              Z                         4.7929\n",
      "              One-sided Pr >  Z         0.0000\n",
      "              Two-sided Pr > |Z|        0.0000\n",
      "\n",
      "Geral 3 tons\n",
      "                  Simple Kappa Coefficient\n",
      "              --------------------------------\n",
      "              Kappa                     0.4847\n",
      "              ASE                       0.0564\n",
      "              95% Lower Conf Limit      0.3742\n",
      "              95% Upper Conf Limit      0.5953\n",
      "\n",
      "                 Test of H0: Simple Kappa = 0\n",
      "\n",
      "              ASE under H0              0.0580\n",
      "              Z                         8.3516\n",
      "              One-sided Pr >  Z         0.0000\n",
      "              Two-sided Pr > |Z|        0.0000\n",
      "\n"
     ]
    }
   ],
   "source": [
    "# publico anatomia\n",
    "anatomia_3 = (\n",
    "    df.query(\"n_tons == 3\")\n",
    "    .groupby([\"publico\"])[[\"animais_silvestres_tom\", \"ratos_wistar_tom\"]]\n",
    "    .value_counts(normalize=False)\n",
    "    .unstack()\n",
    "    .fillna(0)\n",
    "    .loc[\"Publico Anatomia\"]\n",
    "    .values\n",
    ")\n",
    "geral_3 = (\n",
    "    df.query(\"n_tons == 3\")\n",
    "    .groupby([\"publico\"])[[\"animais_silvestres_tom\", \"ratos_wistar_tom\"]]\n",
    "    .value_counts(normalize=False)\n",
    "    .unstack()\n",
    "    .fillna(0)\n",
    "    .loc[\"Publico Geral\"]\n",
    "    .values\n",
    ")\n",
    "print(\"Anatomia 3 tons\")\n",
    "print(cohens_kappa(anatomia_3))\n",
    "\n",
    "print(\"Geral 3 tons\")\n",
    "print(cohens_kappa(geral_3))\n"
   ]
  },
  {
   "cell_type": "code",
   "execution_count": 13,
   "id": "a5af6b77",
   "metadata": {},
   "outputs": [
    {
     "name": "stdout",
     "output_type": "stream",
     "text": [
      "Anatomia 5 tons\n",
      "                  Simple Kappa Coefficient\n",
      "              --------------------------------\n",
      "              Kappa                     0.1071\n",
      "              ASE                       0.0543\n",
      "              95% Lower Conf Limit      0.0006\n",
      "              95% Upper Conf Limit      0.2135\n",
      "\n",
      "                 Test of H0: Simple Kappa = 0\n",
      "\n",
      "              ASE under H0              0.0481\n",
      "              Z                         2.2271\n",
      "              One-sided Pr >  Z         0.0130\n",
      "              Two-sided Pr > |Z|        0.0259\n",
      "\n",
      "Geral 5 tons\n",
      "                  Simple Kappa Coefficient\n",
      "              --------------------------------\n",
      "              Kappa                     0.2538\n",
      "              ASE                       0.0395\n",
      "              95% Lower Conf Limit      0.1764\n",
      "              95% Upper Conf Limit      0.3313\n",
      "\n",
      "                 Test of H0: Simple Kappa = 0\n",
      "\n",
      "              ASE under H0              0.0329\n",
      "              Z                         7.7250\n",
      "              One-sided Pr >  Z         0.0000\n",
      "              Two-sided Pr > |Z|        0.0000\n",
      "\n"
     ]
    }
   ],
   "source": [
    "# publico anatomia\n",
    "anatomia_5 = (\n",
    "    df.query(\"n_tons == 5\")\n",
    "    .groupby([\"publico\"])[[\"animais_silvestres_tom\", \"ratos_wistar_tom\"]]\n",
    "    .value_counts(normalize=False)\n",
    "    .unstack()\n",
    "    .fillna(0)\n",
    "    .loc[\"Publico Anatomia\"]\n",
    "    .values\n",
    ")\n",
    "geral_5 = (\n",
    "    df.query(\"n_tons == 5\")\n",
    "    .groupby([\"publico\"])[[\"animais_silvestres_tom\", \"ratos_wistar_tom\"]]\n",
    "    .value_counts(normalize=False)\n",
    "    .unstack()\n",
    "    .fillna(0)\n",
    "    .loc[\"Publico Geral\"]\n",
    "    .values\n",
    ")\n",
    "print(\"Anatomia 5 tons\")\n",
    "print(cohens_kappa(anatomia_5))\n",
    "\n",
    "print(\"Geral 5 tons\")\n",
    "print(cohens_kappa(geral_5))\n"
   ]
  },
  {
   "cell_type": "code",
   "execution_count": 14,
   "id": "1e3370c2",
   "metadata": {},
   "outputs": [],
   "source": [
    "from statsmodels.stats.contingency_tables import mcnemar\n",
    "from statsmodels.stats.inter_rater import cohens_kappa\n",
    "\n",
    "# statsmodels.stats.contingency_tables.mcnema\n"
   ]
  },
  {
   "cell_type": "code",
   "execution_count": 15,
   "id": "76c2ea93",
   "metadata": {},
   "outputs": [
    {
     "data": {
      "text/plain": [
       "array([[ 7., 11.,  8.],\n",
       "       [ 5., 22.,  7.],\n",
       "       [ 1., 15., 34.]])"
      ]
     },
     "metadata": {},
     "output_type": "display_data"
    },
    {
     "name": "stdout",
     "output_type": "stream",
     "text": [
      "pvalue      0.210113525390625\n",
      "statistic   5.0\n"
     ]
    }
   ],
   "source": [
    "display(anatomia_3)\n",
    "print(mcnemar(anatomia_3))\n"
   ]
  },
  {
   "cell_type": "code",
   "execution_count": 16,
   "id": "72414c7a",
   "metadata": {},
   "outputs": [
    {
     "name": "stdout",
     "output_type": "stream",
     "text": [
      "pvalue      0.0308837890625\n",
      "statistic   4.0\n"
     ]
    }
   ],
   "source": [
    "print(mcnemar(geral_3))\n"
   ]
  },
  {
   "cell_type": "code",
   "execution_count": 17,
   "id": "94d9d981",
   "metadata": {},
   "outputs": [
    {
     "name": "stdout",
     "output_type": "stream",
     "text": [
      "pvalue      1.0\n",
      "statistic   3.0\n"
     ]
    }
   ],
   "source": [
    "print(mcnemar(anatomia_5))\n"
   ]
  },
  {
   "cell_type": "code",
   "execution_count": 18,
   "id": "f6893387",
   "metadata": {},
   "outputs": [
    {
     "name": "stdout",
     "output_type": "stream",
     "text": [
      "pvalue      0.007197380065917969\n",
      "statistic   4.0\n"
     ]
    }
   ],
   "source": [
    "print(mcnemar(geral_5))\n"
   ]
  },
  {
   "attachments": {},
   "cell_type": "markdown",
   "id": "4083b444",
   "metadata": {},
   "source": [
    "### Divisao ratos, pessoas que viram somente 3 ou 5 tons"
   ]
  },
  {
   "cell_type": "code",
   "execution_count": 19,
   "id": "f62a088b",
   "metadata": {},
   "outputs": [
    {
     "name": "stdout",
     "output_type": "stream",
     "text": [
      "ratos 3\n"
     ]
    },
    {
     "data": {
      "text/html": [
       "<div>\n",
       "<style scoped>\n",
       "    .dataframe tbody tr th:only-of-type {\n",
       "        vertical-align: middle;\n",
       "    }\n",
       "\n",
       "    .dataframe tbody tr th {\n",
       "        vertical-align: top;\n",
       "    }\n",
       "\n",
       "    .dataframe thead th {\n",
       "        text-align: right;\n",
       "    }\n",
       "</style>\n",
       "<table border=\"1\" class=\"dataframe\">\n",
       "  <thead>\n",
       "    <tr style=\"text-align: right;\">\n",
       "      <th>ratos_wistar_tom</th>\n",
       "      <th>Tom 1</th>\n",
       "      <th>Tom 2</th>\n",
       "      <th>Tom 3</th>\n",
       "    </tr>\n",
       "    <tr>\n",
       "      <th>publico</th>\n",
       "      <th></th>\n",
       "      <th></th>\n",
       "      <th></th>\n",
       "    </tr>\n",
       "  </thead>\n",
       "  <tbody>\n",
       "    <tr>\n",
       "      <th>Publico Anatomia</th>\n",
       "      <td>13</td>\n",
       "      <td>48</td>\n",
       "      <td>49</td>\n",
       "    </tr>\n",
       "    <tr>\n",
       "      <th>Publico Geral</th>\n",
       "      <td>15</td>\n",
       "      <td>71</td>\n",
       "      <td>67</td>\n",
       "    </tr>\n",
       "  </tbody>\n",
       "</table>\n",
       "</div>"
      ],
      "text/plain": [
       "ratos_wistar_tom  Tom 1  Tom 2  Tom 3\n",
       "publico                              \n",
       "Publico Anatomia     13     48     49\n",
       "Publico Geral        15     71     67"
      ]
     },
     "metadata": {},
     "output_type": "display_data"
    },
    {
     "name": "stdout",
     "output_type": "stream",
     "text": [
      "ratos 5\n"
     ]
    },
    {
     "data": {
      "text/html": [
       "<div>\n",
       "<style scoped>\n",
       "    .dataframe tbody tr th:only-of-type {\n",
       "        vertical-align: middle;\n",
       "    }\n",
       "\n",
       "    .dataframe tbody tr th {\n",
       "        vertical-align: top;\n",
       "    }\n",
       "\n",
       "    .dataframe thead th {\n",
       "        text-align: right;\n",
       "    }\n",
       "</style>\n",
       "<table border=\"1\" class=\"dataframe\">\n",
       "  <thead>\n",
       "    <tr style=\"text-align: right;\">\n",
       "      <th>ratos_wistar_tom</th>\n",
       "      <th>Tom 1</th>\n",
       "      <th>Tom 2</th>\n",
       "      <th>Tom 3</th>\n",
       "      <th>Tom 4</th>\n",
       "      <th>Tom 5</th>\n",
       "    </tr>\n",
       "    <tr>\n",
       "      <th>publico</th>\n",
       "      <th></th>\n",
       "      <th></th>\n",
       "      <th></th>\n",
       "      <th></th>\n",
       "      <th></th>\n",
       "    </tr>\n",
       "  </thead>\n",
       "  <tbody>\n",
       "    <tr>\n",
       "      <th>Publico Anatomia</th>\n",
       "      <td>9</td>\n",
       "      <td>33</td>\n",
       "      <td>68</td>\n",
       "      <td>23</td>\n",
       "      <td>4</td>\n",
       "    </tr>\n",
       "    <tr>\n",
       "      <th>Publico Geral</th>\n",
       "      <td>20</td>\n",
       "      <td>83</td>\n",
       "      <td>75</td>\n",
       "      <td>33</td>\n",
       "      <td>28</td>\n",
       "    </tr>\n",
       "  </tbody>\n",
       "</table>\n",
       "</div>"
      ],
      "text/plain": [
       "ratos_wistar_tom  Tom 1  Tom 2  Tom 3  Tom 4  Tom 5\n",
       "publico                                            \n",
       "Publico Anatomia      9     33     68     23      4\n",
       "Publico Geral        20     83     75     33     28"
      ]
     },
     "metadata": {},
     "output_type": "display_data"
    }
   ],
   "source": [
    "ratos_3 = (\n",
    "    df.query(\"n_tons == 3\")\n",
    "    .groupby([\"publico\"])[\"ratos_wistar_tom\"]\n",
    "    .value_counts(normalize=False)\n",
    "    .unstack()\n",
    ")\n",
    "ratos_5 = (\n",
    "    df.query(\"n_tons == 5\")\n",
    "    .groupby([\"publico\"])[\"ratos_wistar_tom\"]\n",
    "    .value_counts(normalize=False)\n",
    "    .unstack()\n",
    ")\n",
    "\n",
    "print(\"ratos 3\")\n",
    "display(ratos_3)\n",
    "\n",
    "print(\"ratos 5\")\n",
    "display(ratos_5)\n"
   ]
  },
  {
   "cell_type": "code",
   "execution_count": 20,
   "id": "e7d742f2",
   "metadata": {},
   "outputs": [
    {
     "name": "stdout",
     "output_type": "stream",
     "text": [
      "Chi2ContingencyResult(statistic=0.3605588156954341, pvalue=0.8350368629604518, dof=2, expected_freq=array([[11.71102662, 49.77186312, 48.51711027],\n",
      "       [16.28897338, 69.22813688, 67.48288973]]))\n"
     ]
    }
   ],
   "source": [
    "print(stats.chi2_contingency(ratos_3))\n"
   ]
  },
  {
   "cell_type": "code",
   "execution_count": 21,
   "id": "a6ab5b87",
   "metadata": {},
   "outputs": [
    {
     "name": "stdout",
     "output_type": "stream",
     "text": [
      "Chi2ContingencyResult(statistic=19.62664074359862, pvalue=0.0005916817631394325, dof=4, expected_freq=array([[10.56648936, 42.26595745, 52.1037234 , 20.40425532, 11.65957447],\n",
      "       [18.43351064, 73.73404255, 90.8962766 , 35.59574468, 20.34042553]]))\n"
     ]
    }
   ],
   "source": [
    "print(stats.chi2_contingency(ratos_5))\n"
   ]
  },
  {
   "attachments": {},
   "cell_type": "markdown",
   "id": "b9d8ea35",
   "metadata": {},
   "source": [
    "## Questão 1 - ratos e animais, 3 e 5 tons, S e N\n",
    "\n",
    "### Comparar as Q1, Q2, Q3, Q4, Q5 com 3 ou 5 opcoes e publico"
   ]
  },
  {
   "attachments": {},
   "cell_type": "markdown",
   "id": "167e619e",
   "metadata": {},
   "source": [
    "### conhecia plastificação"
   ]
  },
  {
   "cell_type": "code",
   "execution_count": 22,
   "id": "0ce9e572",
   "metadata": {},
   "outputs": [
    {
     "data": {
      "text/html": [
       "<div>\n",
       "<style scoped>\n",
       "    .dataframe tbody tr th:only-of-type {\n",
       "        vertical-align: middle;\n",
       "    }\n",
       "\n",
       "    .dataframe tbody tr th {\n",
       "        vertical-align: top;\n",
       "    }\n",
       "\n",
       "    .dataframe thead th {\n",
       "        text-align: right;\n",
       "    }\n",
       "</style>\n",
       "<table border=\"1\" class=\"dataframe\">\n",
       "  <thead>\n",
       "    <tr style=\"text-align: right;\">\n",
       "      <th>conhecia_plastificacao</th>\n",
       "      <th>Não</th>\n",
       "      <th>Sim</th>\n",
       "    </tr>\n",
       "    <tr>\n",
       "      <th>publico</th>\n",
       "      <th></th>\n",
       "      <th></th>\n",
       "    </tr>\n",
       "  </thead>\n",
       "  <tbody>\n",
       "    <tr>\n",
       "      <th>Publico Anatomia</th>\n",
       "      <td>0.354545</td>\n",
       "      <td>0.645455</td>\n",
       "    </tr>\n",
       "    <tr>\n",
       "      <th>Publico Geral</th>\n",
       "      <td>0.562092</td>\n",
       "      <td>0.437908</td>\n",
       "    </tr>\n",
       "  </tbody>\n",
       "</table>\n",
       "</div>"
      ],
      "text/plain": [
       "conhecia_plastificacao       Não       Sim\n",
       "publico                                   \n",
       "Publico Anatomia        0.354545  0.645455\n",
       "Publico Geral           0.562092  0.437908"
      ]
     },
     "metadata": {},
     "output_type": "display_data"
    },
    {
     "name": "stdout",
     "output_type": "stream",
     "text": [
      "Chi2ContingencyResult(statistic=10.236435735875373, pvalue=0.0013769339498456111, dof=1, expected_freq=array([[52.28136882, 57.71863118],\n",
      "       [72.71863118, 80.28136882]]))\n"
     ]
    },
    {
     "data": {
      "text/html": [
       "<div>\n",
       "<style scoped>\n",
       "    .dataframe tbody tr th:only-of-type {\n",
       "        vertical-align: middle;\n",
       "    }\n",
       "\n",
       "    .dataframe tbody tr th {\n",
       "        vertical-align: top;\n",
       "    }\n",
       "\n",
       "    .dataframe thead th {\n",
       "        text-align: right;\n",
       "    }\n",
       "</style>\n",
       "<table border=\"1\" class=\"dataframe\">\n",
       "  <thead>\n",
       "    <tr style=\"text-align: right;\">\n",
       "      <th>conhecia_plastificacao</th>\n",
       "      <th>Não</th>\n",
       "      <th>Sim</th>\n",
       "    </tr>\n",
       "    <tr>\n",
       "      <th>publico</th>\n",
       "      <th></th>\n",
       "      <th></th>\n",
       "    </tr>\n",
       "  </thead>\n",
       "  <tbody>\n",
       "    <tr>\n",
       "      <th>Publico Anatomia</th>\n",
       "      <td>0.445255</td>\n",
       "      <td>0.554745</td>\n",
       "    </tr>\n",
       "    <tr>\n",
       "      <th>Publico Geral</th>\n",
       "      <td>0.652720</td>\n",
       "      <td>0.347280</td>\n",
       "    </tr>\n",
       "  </tbody>\n",
       "</table>\n",
       "</div>"
      ],
      "text/plain": [
       "conhecia_plastificacao       Não       Sim\n",
       "publico                                   \n",
       "Publico Anatomia        0.445255  0.554745\n",
       "Publico Geral           0.652720  0.347280"
      ]
     },
     "metadata": {},
     "output_type": "display_data"
    },
    {
     "name": "stdout",
     "output_type": "stream",
     "text": [
      "Chi2ContingencyResult(statistic=14.519717362032239, pvalue=0.00013870021255666504, dof=1, expected_freq=array([[ 79.06648936,  57.93351064],\n",
      "       [137.93351064, 101.06648936]]))\n"
     ]
    }
   ],
   "source": [
    "# 3 tons\n",
    "display(\n",
    "    df.query('n_tons == 3').groupby(['publico'])[\"conhecia_plastificacao\"]\n",
    "        .value_counts(normalize=True)\n",
    "        .unstack()\n",
    "        .fillna(0)\n",
    "    )\n",
    "\n",
    "print(stats.chi2_contingency(\n",
    "        df.query('n_tons == 3').groupby(['publico'])[\"conhecia_plastificacao\"]\n",
    "        .value_counts(normalize=False)\n",
    "        .unstack()\n",
    "        .fillna(0)\n",
    "        )\n",
    "    )\n",
    "\n",
    "# 5 tons\n",
    "display(\n",
    "    df.query('n_tons == 5').groupby(['publico'])[\"conhecia_plastificacao\"]\n",
    "        .value_counts(normalize=True)\n",
    "        .unstack()\n",
    "        .fillna(0)\n",
    "    )\n",
    "\n",
    "print(stats.chi2_contingency(\n",
    "        df.query('n_tons == 5').groupby(['publico'])[\"conhecia_plastificacao\"]\n",
    "        .value_counts(normalize=False)\n",
    "        .unstack()\n",
    "        .fillna(0)\n",
    "        )\n",
    "    )\n"
   ]
  },
  {
   "attachments": {},
   "cell_type": "markdown",
   "id": "4be905f0",
   "metadata": {},
   "source": [
    "### contato especime"
   ]
  },
  {
   "cell_type": "code",
   "execution_count": 23,
   "id": "6a6a9d9b",
   "metadata": {},
   "outputs": [
    {
     "data": {
      "text/html": [
       "<div>\n",
       "<style scoped>\n",
       "    .dataframe tbody tr th:only-of-type {\n",
       "        vertical-align: middle;\n",
       "    }\n",
       "\n",
       "    .dataframe tbody tr th {\n",
       "        vertical-align: top;\n",
       "    }\n",
       "\n",
       "    .dataframe thead th {\n",
       "        text-align: right;\n",
       "    }\n",
       "</style>\n",
       "<table border=\"1\" class=\"dataframe\">\n",
       "  <thead>\n",
       "    <tr style=\"text-align: right;\">\n",
       "      <th>contato_especime</th>\n",
       "      <th>Não</th>\n",
       "      <th>Sim</th>\n",
       "    </tr>\n",
       "    <tr>\n",
       "      <th>publico</th>\n",
       "      <th></th>\n",
       "      <th></th>\n",
       "    </tr>\n",
       "  </thead>\n",
       "  <tbody>\n",
       "    <tr>\n",
       "      <th>Publico Anatomia</th>\n",
       "      <td>0.390909</td>\n",
       "      <td>0.609091</td>\n",
       "    </tr>\n",
       "    <tr>\n",
       "      <th>Publico Geral</th>\n",
       "      <td>0.450980</td>\n",
       "      <td>0.549020</td>\n",
       "    </tr>\n",
       "  </tbody>\n",
       "</table>\n",
       "</div>"
      ],
      "text/plain": [
       "contato_especime       Não       Sim\n",
       "publico                             \n",
       "Publico Anatomia  0.390909  0.609091\n",
       "Publico Geral     0.450980  0.549020"
      ]
     },
     "metadata": {},
     "output_type": "display_data"
    },
    {
     "name": "stdout",
     "output_type": "stream",
     "text": [
      "Chi2ContingencyResult(statistic=0.7147404317185442, pvalue=0.39787458101571604, dof=1, expected_freq=array([[46.84410646, 63.15589354],\n",
      "       [65.15589354, 87.84410646]]))\n"
     ]
    },
    {
     "data": {
      "text/html": [
       "<div>\n",
       "<style scoped>\n",
       "    .dataframe tbody tr th:only-of-type {\n",
       "        vertical-align: middle;\n",
       "    }\n",
       "\n",
       "    .dataframe tbody tr th {\n",
       "        vertical-align: top;\n",
       "    }\n",
       "\n",
       "    .dataframe thead th {\n",
       "        text-align: right;\n",
       "    }\n",
       "</style>\n",
       "<table border=\"1\" class=\"dataframe\">\n",
       "  <thead>\n",
       "    <tr style=\"text-align: right;\">\n",
       "      <th>contato_especime</th>\n",
       "      <th>Não</th>\n",
       "      <th>Sim</th>\n",
       "    </tr>\n",
       "    <tr>\n",
       "      <th>publico</th>\n",
       "      <th></th>\n",
       "      <th></th>\n",
       "    </tr>\n",
       "  </thead>\n",
       "  <tbody>\n",
       "    <tr>\n",
       "      <th>Publico Anatomia</th>\n",
       "      <td>0.321168</td>\n",
       "      <td>0.678832</td>\n",
       "    </tr>\n",
       "    <tr>\n",
       "      <th>Publico Geral</th>\n",
       "      <td>0.573222</td>\n",
       "      <td>0.426778</td>\n",
       "    </tr>\n",
       "  </tbody>\n",
       "</table>\n",
       "</div>"
      ],
      "text/plain": [
       "contato_especime       Não       Sim\n",
       "publico                             \n",
       "Publico Anatomia  0.321168  0.678832\n",
       "Publico Geral     0.573222  0.426778"
      ]
     },
     "metadata": {},
     "output_type": "display_data"
    },
    {
     "name": "stdout",
     "output_type": "stream",
     "text": [
      "Chi2ContingencyResult(statistic=21.162400736681143, pvalue=4.219620226823861e-06, dof=1, expected_freq=array([[ 65.94946809,  71.05053191],\n",
      "       [115.05053191, 123.94946809]]))\n"
     ]
    }
   ],
   "source": [
    "display(\n",
    "    df.query('n_tons == 3').groupby(['publico'])[\"contato_especime\"]\n",
    "        .value_counts(normalize=True)\n",
    "        .unstack()\n",
    "        .fillna(0)\n",
    "    )\n",
    "\n",
    "print(stats.chi2_contingency(\n",
    "        df.query('n_tons == 3').groupby(['publico'])[\"contato_especime\"]\n",
    "        .value_counts(normalize=False)\n",
    "        .unstack()\n",
    "        .fillna(0)\n",
    "        )\n",
    "    )\n",
    "\n",
    "# 5 tons\n",
    "display(\n",
    "    df.query('n_tons == 5').groupby(['publico'])[\"contato_especime\"]\n",
    "        .value_counts(normalize=True)\n",
    "        .unstack()\n",
    "        .fillna(0)\n",
    "    )\n",
    "\n",
    "print(stats.chi2_contingency(\n",
    "        df.query('n_tons == 5').groupby(['publico'])[\"contato_especime\"]\n",
    "        .value_counts(normalize=False)\n",
    "        .unstack()\n",
    "        .fillna(0)\n",
    "        )\n",
    "    )"
   ]
  },
  {
   "cell_type": "code",
   "execution_count": null,
   "id": "b8952e0c",
   "metadata": {},
   "outputs": [],
   "source": []
  },
  {
   "attachments": {},
   "cell_type": "markdown",
   "id": "c50d0bfb",
   "metadata": {},
   "source": [
    "### prefere tonalidade colorido"
   ]
  },
  {
   "cell_type": "code",
   "execution_count": 24,
   "id": "da371ef5",
   "metadata": {},
   "outputs": [
    {
     "data": {
      "text/html": [
       "<div>\n",
       "<style scoped>\n",
       "    .dataframe tbody tr th:only-of-type {\n",
       "        vertical-align: middle;\n",
       "    }\n",
       "\n",
       "    .dataframe tbody tr th {\n",
       "        vertical-align: top;\n",
       "    }\n",
       "\n",
       "    .dataframe thead th {\n",
       "        text-align: right;\n",
       "    }\n",
       "</style>\n",
       "<table border=\"1\" class=\"dataframe\">\n",
       "  <thead>\n",
       "    <tr style=\"text-align: right;\">\n",
       "      <th>precebeu_diferenca_tonalidade_colorido</th>\n",
       "      <th>Não</th>\n",
       "      <th>Sim</th>\n",
       "    </tr>\n",
       "    <tr>\n",
       "      <th>publico</th>\n",
       "      <th></th>\n",
       "      <th></th>\n",
       "    </tr>\n",
       "  </thead>\n",
       "  <tbody>\n",
       "    <tr>\n",
       "      <th>Publico Anatomia</th>\n",
       "      <td>0.045455</td>\n",
       "      <td>0.954545</td>\n",
       "    </tr>\n",
       "    <tr>\n",
       "      <th>Publico Geral</th>\n",
       "      <td>0.026144</td>\n",
       "      <td>0.973856</td>\n",
       "    </tr>\n",
       "  </tbody>\n",
       "</table>\n",
       "</div>"
      ],
      "text/plain": [
       "precebeu_diferenca_tonalidade_colorido       Não       Sim\n",
       "publico                                                   \n",
       "Publico Anatomia                        0.045455  0.954545\n",
       "Publico Geral                           0.026144  0.973856"
      ]
     },
     "metadata": {},
     "output_type": "display_data"
    },
    {
     "name": "stdout",
     "output_type": "stream",
     "text": [
      "Chi2ContingencyResult(statistic=0.25595130321276693, pvalue=0.6129154086246517, dof=1, expected_freq=array([[  3.76425856, 106.23574144],\n",
      "       [  5.23574144, 147.76425856]]))\n"
     ]
    },
    {
     "data": {
      "text/html": [
       "<div>\n",
       "<style scoped>\n",
       "    .dataframe tbody tr th:only-of-type {\n",
       "        vertical-align: middle;\n",
       "    }\n",
       "\n",
       "    .dataframe tbody tr th {\n",
       "        vertical-align: top;\n",
       "    }\n",
       "\n",
       "    .dataframe thead th {\n",
       "        text-align: right;\n",
       "    }\n",
       "</style>\n",
       "<table border=\"1\" class=\"dataframe\">\n",
       "  <thead>\n",
       "    <tr style=\"text-align: right;\">\n",
       "      <th>precebeu_diferenca_tonalidade_colorido</th>\n",
       "      <th>Não</th>\n",
       "      <th>Sim</th>\n",
       "    </tr>\n",
       "    <tr>\n",
       "      <th>publico</th>\n",
       "      <th></th>\n",
       "      <th></th>\n",
       "    </tr>\n",
       "  </thead>\n",
       "  <tbody>\n",
       "    <tr>\n",
       "      <th>Publico Anatomia</th>\n",
       "      <td>0.007299</td>\n",
       "      <td>0.992701</td>\n",
       "    </tr>\n",
       "    <tr>\n",
       "      <th>Publico Geral</th>\n",
       "      <td>0.008368</td>\n",
       "      <td>0.991632</td>\n",
       "    </tr>\n",
       "  </tbody>\n",
       "</table>\n",
       "</div>"
      ],
      "text/plain": [
       "precebeu_diferenca_tonalidade_colorido       Não       Sim\n",
       "publico                                                   \n",
       "Publico Anatomia                        0.007299  0.992701\n",
       "Publico Geral                           0.008368  0.991632"
      ]
     },
     "metadata": {},
     "output_type": "display_data"
    },
    {
     "name": "stdout",
     "output_type": "stream",
     "text": [
      "Chi2ContingencyResult(statistic=0.0, pvalue=1.0, dof=1, expected_freq=array([[  1.09308511, 135.90691489],\n",
      "       [  1.90691489, 237.09308511]]))\n"
     ]
    }
   ],
   "source": [
    "display(\n",
    "    df.query('n_tons == 3').groupby(['publico'])[\"precebeu_diferenca_tonalidade_colorido\"]\n",
    "        .value_counts(normalize=True)\n",
    "        .unstack()\n",
    "        .fillna(0)\n",
    "    )\n",
    "\n",
    "print(stats.chi2_contingency(\n",
    "        df.query('n_tons == 3').groupby(['publico'])[\"precebeu_diferenca_tonalidade_colorido\"]\n",
    "        .value_counts(normalize=False)\n",
    "        .unstack()\n",
    "        .fillna(0)\n",
    "        )\n",
    "    )\n",
    "\n",
    "# 5 tons\n",
    "display(\n",
    "    df.query('n_tons == 5').groupby(['publico'])[\"precebeu_diferenca_tonalidade_colorido\"]\n",
    "        .value_counts(normalize=True)\n",
    "        .unstack()\n",
    "        .fillna(0)\n",
    "    )\n",
    "\n",
    "print(stats.chi2_contingency(\n",
    "        df.query('n_tons == 5').groupby(['publico'])[\"precebeu_diferenca_tonalidade_colorido\"]\n",
    "        .value_counts(normalize=False)\n",
    "        .unstack()\n",
    "        .fillna(0)\n",
    "        )\n",
    "    )"
   ]
  },
  {
   "attachments": {},
   "cell_type": "markdown",
   "id": "18d0f945",
   "metadata": {},
   "source": [
    "### interessante plastinado"
   ]
  },
  {
   "cell_type": "code",
   "execution_count": 25,
   "id": "7d915b4b",
   "metadata": {},
   "outputs": [
    {
     "data": {
      "text/html": [
       "<div>\n",
       "<style scoped>\n",
       "    .dataframe tbody tr th:only-of-type {\n",
       "        vertical-align: middle;\n",
       "    }\n",
       "\n",
       "    .dataframe tbody tr th {\n",
       "        vertical-align: top;\n",
       "    }\n",
       "\n",
       "    .dataframe thead th {\n",
       "        text-align: right;\n",
       "    }\n",
       "</style>\n",
       "<table border=\"1\" class=\"dataframe\">\n",
       "  <thead>\n",
       "    <tr style=\"text-align: right;\">\n",
       "      <th>interessante_plastinados</th>\n",
       "      <th>Não</th>\n",
       "      <th>Sim</th>\n",
       "    </tr>\n",
       "    <tr>\n",
       "      <th>publico</th>\n",
       "      <th></th>\n",
       "      <th></th>\n",
       "    </tr>\n",
       "  </thead>\n",
       "  <tbody>\n",
       "    <tr>\n",
       "      <th>Publico Anatomia</th>\n",
       "      <td>0.000000</td>\n",
       "      <td>1.000000</td>\n",
       "    </tr>\n",
       "    <tr>\n",
       "      <th>Publico Geral</th>\n",
       "      <td>0.013072</td>\n",
       "      <td>0.986928</td>\n",
       "    </tr>\n",
       "  </tbody>\n",
       "</table>\n",
       "</div>"
      ],
      "text/plain": [
       "interessante_plastinados       Não       Sim\n",
       "publico                                     \n",
       "Publico Anatomia          0.000000  1.000000\n",
       "Publico Geral             0.013072  0.986928"
      ]
     },
     "metadata": {},
     "output_type": "display_data"
    },
    {
     "name": "stdout",
     "output_type": "stream",
     "text": [
      "Chi2ContingencyResult(statistic=0.23447020919130457, pvalue=0.62822886456424, dof=1, expected_freq=array([[  0.8365019, 109.1634981],\n",
      "       [  1.1634981, 151.8365019]]))\n"
     ]
    },
    {
     "data": {
      "text/html": [
       "<div>\n",
       "<style scoped>\n",
       "    .dataframe tbody tr th:only-of-type {\n",
       "        vertical-align: middle;\n",
       "    }\n",
       "\n",
       "    .dataframe tbody tr th {\n",
       "        vertical-align: top;\n",
       "    }\n",
       "\n",
       "    .dataframe thead th {\n",
       "        text-align: right;\n",
       "    }\n",
       "</style>\n",
       "<table border=\"1\" class=\"dataframe\">\n",
       "  <thead>\n",
       "    <tr style=\"text-align: right;\">\n",
       "      <th>interessante_plastinados</th>\n",
       "      <th>Não</th>\n",
       "      <th>Sim</th>\n",
       "    </tr>\n",
       "    <tr>\n",
       "      <th>publico</th>\n",
       "      <th></th>\n",
       "      <th></th>\n",
       "    </tr>\n",
       "  </thead>\n",
       "  <tbody>\n",
       "    <tr>\n",
       "      <th>Publico Anatomia</th>\n",
       "      <td>0.014599</td>\n",
       "      <td>0.985401</td>\n",
       "    </tr>\n",
       "    <tr>\n",
       "      <th>Publico Geral</th>\n",
       "      <td>0.000000</td>\n",
       "      <td>1.000000</td>\n",
       "    </tr>\n",
       "  </tbody>\n",
       "</table>\n",
       "</div>"
      ],
      "text/plain": [
       "interessante_plastinados       Não       Sim\n",
       "publico                                     \n",
       "Publico Anatomia          0.014599  0.985401\n",
       "Publico Geral             0.000000  1.000000"
      ]
     },
     "metadata": {},
     "output_type": "display_data"
    },
    {
     "name": "stdout",
     "output_type": "stream",
     "text": [
      "Chi2ContingencyResult(statistic=1.291111575303437, pvalue=0.2558432025207631, dof=1, expected_freq=array([[  0.7287234, 136.2712766],\n",
      "       [  1.2712766, 237.7287234]]))\n"
     ]
    }
   ],
   "source": [
    "display(\n",
    "    df.query('n_tons == 3').groupby(['publico'])[\"interessante_plastinados\"]\n",
    "        .value_counts(normalize=True)\n",
    "        .unstack()\n",
    "        .fillna(0)\n",
    "    )\n",
    "\n",
    "print(stats.chi2_contingency(\n",
    "        df.query('n_tons == 3').groupby(['publico'])[\"interessante_plastinados\"]\n",
    "        .value_counts(normalize=False)\n",
    "        .unstack()\n",
    "        .fillna(0)\n",
    "        )\n",
    "    )\n",
    "\n",
    "# 5 tons\n",
    "display(\n",
    "    df.query('n_tons == 5').groupby(['publico'])[\"interessante_plastinados\"]\n",
    "        .value_counts(normalize=True)\n",
    "        .unstack()\n",
    "        .fillna(0)\n",
    "    )\n",
    "\n",
    "print(stats.chi2_contingency(\n",
    "        df.query('n_tons == 5').groupby(['publico'])[\"interessante_plastinados\"]\n",
    "        .value_counts(normalize=False)\n",
    "        .unstack()\n",
    "        .fillna(0)\n",
    "        )\n",
    "    )"
   ]
  },
  {
   "attachments": {},
   "cell_type": "markdown",
   "id": "ba88fe2b",
   "metadata": {},
   "source": [
    "pergunta: a população é semelhante em relação ao conhecimento e em relação entre a percepção entre cores para pessoas que só viram 3 ou 5 tons?\n",
    "\n",
    "teste: quiquadrado\n",
    "\n",
    "hipotese nula: as pessoas tem a mesma resposta\\\n",
    "hipotese alternativa: as pessoas tem resposta diferente"
   ]
  },
  {
   "attachments": {},
   "cell_type": "markdown",
   "id": "f27377a1",
   "metadata": {},
   "source": [
    "## Questão 4 - juntar as tabelas"
   ]
  },
  {
   "attachments": {},
   "cell_type": "markdown",
   "id": "4ec410b1",
   "metadata": {},
   "source": [
    "### Conhecia plastinação, publico, tons"
   ]
  },
  {
   "attachments": {},
   "cell_type": "markdown",
   "id": "bfab917b",
   "metadata": {},
   "source": [
    "3 tons"
   ]
  },
  {
   "cell_type": "code",
   "execution_count": 26,
   "id": "f8f0a3ce",
   "metadata": {
    "scrolled": false
   },
   "outputs": [
    {
     "data": {
      "text/html": [
       "<div>\n",
       "<style scoped>\n",
       "    .dataframe tbody tr th:only-of-type {\n",
       "        vertical-align: middle;\n",
       "    }\n",
       "\n",
       "    .dataframe tbody tr th {\n",
       "        vertical-align: top;\n",
       "    }\n",
       "\n",
       "    .dataframe thead th {\n",
       "        text-align: right;\n",
       "    }\n",
       "</style>\n",
       "<table border=\"1\" class=\"dataframe\">\n",
       "  <thead>\n",
       "    <tr style=\"text-align: right;\">\n",
       "      <th>publico</th>\n",
       "      <th>Publico Anatomia</th>\n",
       "      <th>Publico Geral</th>\n",
       "    </tr>\n",
       "    <tr>\n",
       "      <th>conhecia_plastificacao</th>\n",
       "      <th></th>\n",
       "      <th></th>\n",
       "    </tr>\n",
       "  </thead>\n",
       "  <tbody>\n",
       "    <tr>\n",
       "      <th>Não</th>\n",
       "      <td>0.312000</td>\n",
       "      <td>0.688000</td>\n",
       "    </tr>\n",
       "    <tr>\n",
       "      <th>Sim</th>\n",
       "      <td>0.514493</td>\n",
       "      <td>0.485507</td>\n",
       "    </tr>\n",
       "  </tbody>\n",
       "</table>\n",
       "</div>"
      ],
      "text/plain": [
       "publico                 Publico Anatomia  Publico Geral\n",
       "conhecia_plastificacao                                 \n",
       "Não                             0.312000       0.688000\n",
       "Sim                             0.514493       0.485507"
      ]
     },
     "metadata": {},
     "output_type": "display_data"
    },
    {
     "name": "stdout",
     "output_type": "stream",
     "text": [
      "Chi2ContingencyResult(statistic=10.236435735875375, pvalue=0.0013769339498456111, dof=1, expected_freq=array([[52.28136882, 72.71863118],\n",
      "       [57.71863118, 80.28136882]]))\n"
     ]
    },
    {
     "data": {
      "text/html": [
       "<div>\n",
       "<style scoped>\n",
       "    .dataframe tbody tr th:only-of-type {\n",
       "        vertical-align: middle;\n",
       "    }\n",
       "\n",
       "    .dataframe tbody tr th {\n",
       "        vertical-align: top;\n",
       "    }\n",
       "\n",
       "    .dataframe thead th {\n",
       "        text-align: right;\n",
       "    }\n",
       "</style>\n",
       "<table border=\"1\" class=\"dataframe\">\n",
       "  <thead>\n",
       "    <tr style=\"text-align: right;\">\n",
       "      <th>publico</th>\n",
       "      <th>Publico Anatomia</th>\n",
       "      <th>Publico Geral</th>\n",
       "    </tr>\n",
       "    <tr>\n",
       "      <th>contato_especime</th>\n",
       "      <th></th>\n",
       "      <th></th>\n",
       "    </tr>\n",
       "  </thead>\n",
       "  <tbody>\n",
       "    <tr>\n",
       "      <th>Não</th>\n",
       "      <td>0.383929</td>\n",
       "      <td>0.616071</td>\n",
       "    </tr>\n",
       "    <tr>\n",
       "      <th>Sim</th>\n",
       "      <td>0.443709</td>\n",
       "      <td>0.556291</td>\n",
       "    </tr>\n",
       "  </tbody>\n",
       "</table>\n",
       "</div>"
      ],
      "text/plain": [
       "publico           Publico Anatomia  Publico Geral\n",
       "contato_especime                                 \n",
       "Não                       0.383929       0.616071\n",
       "Sim                       0.443709       0.556291"
      ]
     },
     "metadata": {},
     "output_type": "display_data"
    },
    {
     "name": "stdout",
     "output_type": "stream",
     "text": [
      "Chi2ContingencyResult(statistic=0.7147404317185442, pvalue=0.39787458101571604, dof=1, expected_freq=array([[46.84410646, 65.15589354],\n",
      "       [63.15589354, 87.84410646]]))\n"
     ]
    },
    {
     "data": {
      "text/html": [
       "<div>\n",
       "<style scoped>\n",
       "    .dataframe tbody tr th:only-of-type {\n",
       "        vertical-align: middle;\n",
       "    }\n",
       "\n",
       "    .dataframe tbody tr th {\n",
       "        vertical-align: top;\n",
       "    }\n",
       "\n",
       "    .dataframe thead th {\n",
       "        text-align: right;\n",
       "    }\n",
       "</style>\n",
       "<table border=\"1\" class=\"dataframe\">\n",
       "  <thead>\n",
       "    <tr style=\"text-align: right;\">\n",
       "      <th>publico</th>\n",
       "      <th>Publico Anatomia</th>\n",
       "      <th>Publico Geral</th>\n",
       "    </tr>\n",
       "    <tr>\n",
       "      <th>precebeu_diferenca_tonalidade_colorido</th>\n",
       "      <th></th>\n",
       "      <th></th>\n",
       "    </tr>\n",
       "  </thead>\n",
       "  <tbody>\n",
       "    <tr>\n",
       "      <th>Não</th>\n",
       "      <td>0.555556</td>\n",
       "      <td>0.444444</td>\n",
       "    </tr>\n",
       "    <tr>\n",
       "      <th>Sim</th>\n",
       "      <td>0.413386</td>\n",
       "      <td>0.586614</td>\n",
       "    </tr>\n",
       "  </tbody>\n",
       "</table>\n",
       "</div>"
      ],
      "text/plain": [
       "publico                                 Publico Anatomia  Publico Geral\n",
       "precebeu_diferenca_tonalidade_colorido                                 \n",
       "Não                                             0.555556       0.444444\n",
       "Sim                                             0.413386       0.586614"
      ]
     },
     "metadata": {},
     "output_type": "display_data"
    },
    {
     "name": "stdout",
     "output_type": "stream",
     "text": [
      "Chi2ContingencyResult(statistic=0.25595130321276693, pvalue=0.6129154086246517, dof=1, expected_freq=array([[  3.76425856,   5.23574144],\n",
      "       [106.23574144, 147.76425856]]))\n"
     ]
    },
    {
     "data": {
      "text/html": [
       "<div>\n",
       "<style scoped>\n",
       "    .dataframe tbody tr th:only-of-type {\n",
       "        vertical-align: middle;\n",
       "    }\n",
       "\n",
       "    .dataframe tbody tr th {\n",
       "        vertical-align: top;\n",
       "    }\n",
       "\n",
       "    .dataframe thead th {\n",
       "        text-align: right;\n",
       "    }\n",
       "</style>\n",
       "<table border=\"1\" class=\"dataframe\">\n",
       "  <thead>\n",
       "    <tr style=\"text-align: right;\">\n",
       "      <th>publico</th>\n",
       "      <th>Publico Anatomia</th>\n",
       "      <th>Publico Geral</th>\n",
       "    </tr>\n",
       "    <tr>\n",
       "      <th>interessante_plastinados</th>\n",
       "      <th></th>\n",
       "      <th></th>\n",
       "    </tr>\n",
       "  </thead>\n",
       "  <tbody>\n",
       "    <tr>\n",
       "      <th>Não</th>\n",
       "      <td>0.000000</td>\n",
       "      <td>1.000000</td>\n",
       "    </tr>\n",
       "    <tr>\n",
       "      <th>Sim</th>\n",
       "      <td>0.421456</td>\n",
       "      <td>0.578544</td>\n",
       "    </tr>\n",
       "  </tbody>\n",
       "</table>\n",
       "</div>"
      ],
      "text/plain": [
       "publico                   Publico Anatomia  Publico Geral\n",
       "interessante_plastinados                                 \n",
       "Não                               0.000000       1.000000\n",
       "Sim                               0.421456       0.578544"
      ]
     },
     "metadata": {},
     "output_type": "display_data"
    },
    {
     "name": "stdout",
     "output_type": "stream",
     "text": [
      "Chi2ContingencyResult(statistic=0.23447020919130457, pvalue=0.62822886456424, dof=1, expected_freq=array([[  0.8365019,   1.1634981],\n",
      "       [109.1634981, 151.8365019]]))\n"
     ]
    }
   ],
   "source": [
    "display(\n",
    "    df.query(\"n_tons == 3\")\n",
    "    .groupby([\"conhecia_plastificacao\"])[\"publico\"]\n",
    "    .value_counts(normalize=True)\n",
    "    .unstack().fillna(0)\n",
    ")\n",
    "print(stats.chi2_contingency(\n",
    "    df.query(\"n_tons == 3\")\n",
    "    .groupby([\"conhecia_plastificacao\"])[\"publico\"]\n",
    "    .value_counts(normalize=False)\n",
    "    .unstack().fillna(0))\n",
    ")\n",
    "\n",
    "display(\n",
    "    df.query(\"n_tons == 3\")\n",
    "    .groupby([\"contato_especime\"])[\"publico\"]\n",
    "    .value_counts(normalize=True)\n",
    "    .unstack().fillna(0)\n",
    ")\n",
    "print(stats.chi2_contingency(\n",
    "    df.query(\"n_tons == 3\")\n",
    "    .groupby([\"contato_especime\"])[\"publico\"]\n",
    "    .value_counts(normalize=False)\n",
    "    .unstack().fillna(0)\n",
    "))\n",
    "\n",
    "display(\n",
    "    df.query(\"n_tons == 3\")\n",
    "    .groupby([\"precebeu_diferenca_tonalidade_colorido\"])[\"publico\"]\n",
    "    .value_counts(normalize=True)\n",
    "    .unstack().fillna(0)\n",
    ")\n",
    "print(stats.chi2_contingency(\n",
    "    df.query(\"n_tons == 3\")\n",
    "    .groupby([\"precebeu_diferenca_tonalidade_colorido\"])[\"publico\"]\n",
    "    .value_counts(normalize=False)\n",
    "    .unstack().fillna(0)\n",
    "))\n",
    "\n",
    "display(\n",
    "    df.query(\"n_tons == 3\")\n",
    "    .groupby([\"interessante_plastinados\"])[\"publico\"]\n",
    "    .value_counts(normalize=True)\n",
    "    .unstack().fillna(0)\n",
    ")\n",
    "print(stats.chi2_contingency(\n",
    "    df.query(\"n_tons == 3\")\n",
    "    .groupby([\"interessante_plastinados\"])[\"publico\"]\n",
    "    .value_counts(normalize=False)\n",
    "    .unstack().fillna(0)\n",
    "))\n"
   ]
  },
  {
   "attachments": {},
   "cell_type": "markdown",
   "id": "b93fccef",
   "metadata": {},
   "source": [
    "5 tons"
   ]
  },
  {
   "cell_type": "code",
   "execution_count": 27,
   "id": "90aed5f0",
   "metadata": {},
   "outputs": [
    {
     "data": {
      "text/html": [
       "<div>\n",
       "<style scoped>\n",
       "    .dataframe tbody tr th:only-of-type {\n",
       "        vertical-align: middle;\n",
       "    }\n",
       "\n",
       "    .dataframe tbody tr th {\n",
       "        vertical-align: top;\n",
       "    }\n",
       "\n",
       "    .dataframe thead th {\n",
       "        text-align: right;\n",
       "    }\n",
       "</style>\n",
       "<table border=\"1\" class=\"dataframe\">\n",
       "  <thead>\n",
       "    <tr style=\"text-align: right;\">\n",
       "      <th>publico</th>\n",
       "      <th>Publico Anatomia</th>\n",
       "      <th>Publico Geral</th>\n",
       "    </tr>\n",
       "    <tr>\n",
       "      <th>conhecia_plastificacao</th>\n",
       "      <th></th>\n",
       "      <th></th>\n",
       "    </tr>\n",
       "  </thead>\n",
       "  <tbody>\n",
       "    <tr>\n",
       "      <th>Não</th>\n",
       "      <td>0.281106</td>\n",
       "      <td>0.718894</td>\n",
       "    </tr>\n",
       "    <tr>\n",
       "      <th>Sim</th>\n",
       "      <td>0.477987</td>\n",
       "      <td>0.522013</td>\n",
       "    </tr>\n",
       "  </tbody>\n",
       "</table>\n",
       "</div>"
      ],
      "text/plain": [
       "publico                 Publico Anatomia  Publico Geral\n",
       "conhecia_plastificacao                                 \n",
       "Não                             0.281106       0.718894\n",
       "Sim                             0.477987       0.522013"
      ]
     },
     "metadata": {},
     "output_type": "display_data"
    },
    {
     "name": "stdout",
     "output_type": "stream",
     "text": [
      "Chi2ContingencyResult(statistic=14.519717362032239, pvalue=0.00013870021255666504, dof=1, expected_freq=array([[ 79.06648936, 137.93351064],\n",
      "       [ 57.93351064, 101.06648936]]))\n"
     ]
    },
    {
     "data": {
      "text/html": [
       "<div>\n",
       "<style scoped>\n",
       "    .dataframe tbody tr th:only-of-type {\n",
       "        vertical-align: middle;\n",
       "    }\n",
       "\n",
       "    .dataframe tbody tr th {\n",
       "        vertical-align: top;\n",
       "    }\n",
       "\n",
       "    .dataframe thead th {\n",
       "        text-align: right;\n",
       "    }\n",
       "</style>\n",
       "<table border=\"1\" class=\"dataframe\">\n",
       "  <thead>\n",
       "    <tr style=\"text-align: right;\">\n",
       "      <th>publico</th>\n",
       "      <th>Publico Anatomia</th>\n",
       "      <th>Publico Geral</th>\n",
       "    </tr>\n",
       "    <tr>\n",
       "      <th>contato_especime</th>\n",
       "      <th></th>\n",
       "      <th></th>\n",
       "    </tr>\n",
       "  </thead>\n",
       "  <tbody>\n",
       "    <tr>\n",
       "      <th>Não</th>\n",
       "      <td>0.243094</td>\n",
       "      <td>0.756906</td>\n",
       "    </tr>\n",
       "    <tr>\n",
       "      <th>Sim</th>\n",
       "      <td>0.476923</td>\n",
       "      <td>0.523077</td>\n",
       "    </tr>\n",
       "  </tbody>\n",
       "</table>\n",
       "</div>"
      ],
      "text/plain": [
       "publico           Publico Anatomia  Publico Geral\n",
       "contato_especime                                 \n",
       "Não                       0.243094       0.756906\n",
       "Sim                       0.476923       0.523077"
      ]
     },
     "metadata": {},
     "output_type": "display_data"
    },
    {
     "name": "stdout",
     "output_type": "stream",
     "text": [
      "Chi2ContingencyResult(statistic=21.162400736681146, pvalue=4.219620226823852e-06, dof=1, expected_freq=array([[ 65.94946809, 115.05053191],\n",
      "       [ 71.05053191, 123.94946809]]))\n"
     ]
    },
    {
     "data": {
      "text/html": [
       "<div>\n",
       "<style scoped>\n",
       "    .dataframe tbody tr th:only-of-type {\n",
       "        vertical-align: middle;\n",
       "    }\n",
       "\n",
       "    .dataframe tbody tr th {\n",
       "        vertical-align: top;\n",
       "    }\n",
       "\n",
       "    .dataframe thead th {\n",
       "        text-align: right;\n",
       "    }\n",
       "</style>\n",
       "<table border=\"1\" class=\"dataframe\">\n",
       "  <thead>\n",
       "    <tr style=\"text-align: right;\">\n",
       "      <th>publico</th>\n",
       "      <th>Publico Anatomia</th>\n",
       "      <th>Publico Geral</th>\n",
       "    </tr>\n",
       "    <tr>\n",
       "      <th>precebeu_diferenca_tonalidade_colorido</th>\n",
       "      <th></th>\n",
       "      <th></th>\n",
       "    </tr>\n",
       "  </thead>\n",
       "  <tbody>\n",
       "    <tr>\n",
       "      <th>Não</th>\n",
       "      <td>0.333333</td>\n",
       "      <td>0.666667</td>\n",
       "    </tr>\n",
       "    <tr>\n",
       "      <th>Sim</th>\n",
       "      <td>0.364611</td>\n",
       "      <td>0.635389</td>\n",
       "    </tr>\n",
       "  </tbody>\n",
       "</table>\n",
       "</div>"
      ],
      "text/plain": [
       "publico                                 Publico Anatomia  Publico Geral\n",
       "precebeu_diferenca_tonalidade_colorido                                 \n",
       "Não                                             0.333333       0.666667\n",
       "Sim                                             0.364611       0.635389"
      ]
     },
     "metadata": {},
     "output_type": "display_data"
    },
    {
     "name": "stdout",
     "output_type": "stream",
     "text": [
      "Chi2ContingencyResult(statistic=0.0, pvalue=1.0, dof=1, expected_freq=array([[  1.09308511,   1.90691489],\n",
      "       [135.90691489, 237.09308511]]))\n"
     ]
    },
    {
     "data": {
      "text/html": [
       "<div>\n",
       "<style scoped>\n",
       "    .dataframe tbody tr th:only-of-type {\n",
       "        vertical-align: middle;\n",
       "    }\n",
       "\n",
       "    .dataframe tbody tr th {\n",
       "        vertical-align: top;\n",
       "    }\n",
       "\n",
       "    .dataframe thead th {\n",
       "        text-align: right;\n",
       "    }\n",
       "</style>\n",
       "<table border=\"1\" class=\"dataframe\">\n",
       "  <thead>\n",
       "    <tr style=\"text-align: right;\">\n",
       "      <th>publico</th>\n",
       "      <th>Publico Anatomia</th>\n",
       "      <th>Publico Geral</th>\n",
       "    </tr>\n",
       "    <tr>\n",
       "      <th>interessante_plastinados</th>\n",
       "      <th></th>\n",
       "      <th></th>\n",
       "    </tr>\n",
       "  </thead>\n",
       "  <tbody>\n",
       "    <tr>\n",
       "      <th>Não</th>\n",
       "      <td>1.000000</td>\n",
       "      <td>0.000000</td>\n",
       "    </tr>\n",
       "    <tr>\n",
       "      <th>Sim</th>\n",
       "      <td>0.360963</td>\n",
       "      <td>0.639037</td>\n",
       "    </tr>\n",
       "  </tbody>\n",
       "</table>\n",
       "</div>"
      ],
      "text/plain": [
       "publico                   Publico Anatomia  Publico Geral\n",
       "interessante_plastinados                                 \n",
       "Não                               1.000000       0.000000\n",
       "Sim                               0.360963       0.639037"
      ]
     },
     "metadata": {},
     "output_type": "display_data"
    },
    {
     "name": "stdout",
     "output_type": "stream",
     "text": [
      "Chi2ContingencyResult(statistic=1.291111575303437, pvalue=0.2558432025207631, dof=1, expected_freq=array([[  0.7287234,   1.2712766],\n",
      "       [136.2712766, 237.7287234]]))\n"
     ]
    }
   ],
   "source": [
    "display(\n",
    "    df.query(\"n_tons == 5\")\n",
    "    .groupby([\"conhecia_plastificacao\"])[\"publico\"]\n",
    "    .value_counts(normalize=True)\n",
    "    .unstack().fillna(0)\n",
    ")\n",
    "print(stats.chi2_contingency(\n",
    "    df.query(\"n_tons == 5\")\n",
    "    .groupby([\"conhecia_plastificacao\"])[\"publico\"]\n",
    "    .value_counts(normalize=False)\n",
    "    .unstack().fillna(0))\n",
    ")\n",
    "\n",
    "display(\n",
    "    df.query(\"n_tons == 5\")\n",
    "    .groupby([\"contato_especime\"])[\"publico\"]\n",
    "    .value_counts(normalize=True)\n",
    "    .unstack().fillna(0)\n",
    ")\n",
    "print(stats.chi2_contingency(\n",
    "    df.query(\"n_tons == 5\")\n",
    "    .groupby([\"contato_especime\"])[\"publico\"]\n",
    "    .value_counts(normalize=False)\n",
    "    .unstack().fillna(0)\n",
    "))\n",
    "\n",
    "display(\n",
    "    df.query(\"n_tons == 5\")\n",
    "    .groupby([\"precebeu_diferenca_tonalidade_colorido\"])[\"publico\"]\n",
    "    .value_counts(normalize=True)\n",
    "    .unstack().fillna(0)\n",
    ")\n",
    "print(stats.chi2_contingency(\n",
    "    df.query(\"n_tons == 5\")\n",
    "    .groupby([\"precebeu_diferenca_tonalidade_colorido\"])[\"publico\"]\n",
    "    .value_counts(normalize=False)\n",
    "    .unstack().fillna(0)\n",
    "))\n",
    "\n",
    "display(\n",
    "    df.query(\"n_tons == 5\")\n",
    "    .groupby([\"interessante_plastinados\"])[\"publico\"]\n",
    "    .value_counts(normalize=True)\n",
    "    .unstack().fillna(0)\n",
    ")\n",
    "print(stats.chi2_contingency(\n",
    "    df.query(\"n_tons == 5\")\n",
    "    .groupby([\"interessante_plastinados\"])[\"publico\"]\n",
    "    .value_counts(normalize=False)\n",
    "    .unstack().fillna(0)\n",
    "))\n"
   ]
  },
  {
   "attachments": {},
   "cell_type": "markdown",
   "id": "8077c7ff",
   "metadata": {},
   "source": [
    "pergunta: a população é semelhante em relação ao conhecimento e em relação entre a percepção entre cores para pessoas que só viram 3 ou 5 tons?\n",
    "\n",
    "teste: quiquadrado\n",
    "\n",
    "hipotese nula: as pessoas tem a mesma resposta\\\n",
    "hipotese alternativa: as pessoas tem resposta diferente"
   ]
  },
  {
   "attachments": {},
   "cell_type": "markdown",
   "id": "212f1cab",
   "metadata": {},
   "source": [
    "## Questao 2 - ratos\n",
    "\n",
    "ver separado rato e animal - comparar tecnico e geral para 3 opcoes x 5 opcoes\n",
    "\n",
    "pergunta: sera que o publico tecnico e geral tem a mesma opiniao sobre os tons?\\\n",
    "teste: quiquadrado independência\\\n",
    "hipotese nula: eles tem a mesma opiniao\\\n",
    "hipotese alternativa: eles nao tem a mesma opiniao"
   ]
  },
  {
   "attachments": {},
   "cell_type": "markdown",
   "id": "2ec13a5c",
   "metadata": {},
   "source": [
    "3 opcoes ratos"
   ]
  },
  {
   "attachments": {},
   "cell_type": "markdown",
   "id": "997a1677",
   "metadata": {},
   "source": [
    "### Juntar tudo em uma tabela"
   ]
  },
  {
   "cell_type": "code",
   "execution_count": 7,
   "id": "7f8ca98a",
   "metadata": {
    "scrolled": false
   },
   "outputs": [
    {
     "data": {
      "text/html": [
       "<div>\n",
       "<style scoped>\n",
       "    .dataframe tbody tr th:only-of-type {\n",
       "        vertical-align: middle;\n",
       "    }\n",
       "\n",
       "    .dataframe tbody tr th {\n",
       "        vertical-align: top;\n",
       "    }\n",
       "\n",
       "    .dataframe thead th {\n",
       "        text-align: right;\n",
       "    }\n",
       "</style>\n",
       "<table border=\"1\" class=\"dataframe\">\n",
       "  <thead>\n",
       "    <tr style=\"text-align: right;\">\n",
       "      <th>publico</th>\n",
       "      <th>Publico Anatomia</th>\n",
       "      <th>Publico Geral</th>\n",
       "    </tr>\n",
       "    <tr>\n",
       "      <th>ratos_wistar_tom</th>\n",
       "      <th></th>\n",
       "      <th></th>\n",
       "    </tr>\n",
       "  </thead>\n",
       "  <tbody>\n",
       "    <tr>\n",
       "      <th>Tom 1</th>\n",
       "      <td>0.118182</td>\n",
       "      <td>0.098039</td>\n",
       "    </tr>\n",
       "    <tr>\n",
       "      <th>Tom 2</th>\n",
       "      <td>0.436364</td>\n",
       "      <td>0.464052</td>\n",
       "    </tr>\n",
       "    <tr>\n",
       "      <th>Tom 3</th>\n",
       "      <td>0.445455</td>\n",
       "      <td>0.437908</td>\n",
       "    </tr>\n",
       "  </tbody>\n",
       "</table>\n",
       "</div>"
      ],
      "text/plain": [
       "publico           Publico Anatomia  Publico Geral\n",
       "ratos_wistar_tom                                 \n",
       "Tom 1                     0.118182       0.098039\n",
       "Tom 2                     0.436364       0.464052\n",
       "Tom 3                     0.445455       0.437908"
      ]
     },
     "metadata": {},
     "output_type": "display_data"
    },
    {
     "data": {
      "text/html": [
       "<div>\n",
       "<style scoped>\n",
       "    .dataframe tbody tr th:only-of-type {\n",
       "        vertical-align: middle;\n",
       "    }\n",
       "\n",
       "    .dataframe tbody tr th {\n",
       "        vertical-align: top;\n",
       "    }\n",
       "\n",
       "    .dataframe thead th {\n",
       "        text-align: right;\n",
       "    }\n",
       "</style>\n",
       "<table border=\"1\" class=\"dataframe\">\n",
       "  <thead>\n",
       "    <tr style=\"text-align: right;\">\n",
       "      <th>publico</th>\n",
       "      <th>Publico Anatomia</th>\n",
       "      <th>Publico Geral</th>\n",
       "    </tr>\n",
       "    <tr>\n",
       "      <th>ratos_wistar_tom</th>\n",
       "      <th></th>\n",
       "      <th></th>\n",
       "    </tr>\n",
       "  </thead>\n",
       "  <tbody>\n",
       "    <tr>\n",
       "      <th>Tom 1</th>\n",
       "      <td>13</td>\n",
       "      <td>15</td>\n",
       "    </tr>\n",
       "    <tr>\n",
       "      <th>Tom 2</th>\n",
       "      <td>48</td>\n",
       "      <td>71</td>\n",
       "    </tr>\n",
       "    <tr>\n",
       "      <th>Tom 3</th>\n",
       "      <td>49</td>\n",
       "      <td>67</td>\n",
       "    </tr>\n",
       "  </tbody>\n",
       "</table>\n",
       "</div>"
      ],
      "text/plain": [
       "publico           Publico Anatomia  Publico Geral\n",
       "ratos_wistar_tom                                 \n",
       "Tom 1                           13             15\n",
       "Tom 2                           48             71\n",
       "Tom 3                           49             67"
      ]
     },
     "metadata": {},
     "output_type": "display_data"
    },
    {
     "data": {
      "image/png": "[encoded data removed]",
      "text/plain": [
       "<Figure size 640x480 with 1 Axes>"
      ]
     },
     "metadata": {},
     "output_type": "display_data"
    },
    {
     "data": {
      "image/png": "[encoded data removed]",
      "text/plain": [
       "<Figure size 1000x500 with 1 Axes>"
      ]
     },
     "metadata": {},
     "output_type": "display_data"
    }
   ],
   "source": [
    "# porcentagem do geral\n",
    "\n",
    "display(\n",
    "    df.query(\"n_tons == 3\")\n",
    "    .groupby([\"publico\"])[\"ratos_wistar_tom\"]\n",
    "    .value_counts(normalize=True)\n",
    "    .unstack().T#.plot(kind='bar', stacked=False, figsize=(10, 5))\n",
    ")\n",
    "plt.xlabel('Tom Ratos Wistar')\n",
    "plt.ylabel('Porcentagem')\n",
    "\n",
    "ratos_3t_publico = (\n",
    "    df.query(\"n_tons == 3\")\n",
    "    .groupby([\"ratos_wistar_tom\"])[\"publico\"]\n",
    "    .value_counts(normalize=False)\n",
    "    .unstack()\n",
    ")\n",
    "# plt.title(f'Ratos Wistar - $\\chi^2$ = {stats.chi2_contingency(ratos_3t_publico).pvalue:.3f}')\n",
    "# legend = plt.legend(title=\"Público\", loc=2, fontsize='small', fancybox=True)\n",
    "# display(ratos_3t_publico.plot())\n",
    "\n",
    "display(ratos_3t_publico)\n",
    "\n",
    "import matplotlib.pyplot as plt\n",
    "\n",
    "data = df.query(\"n_tons == 3\").groupby([\"publico\"])[\"ratos_wistar_tom\"].value_counts(normalize=True).unstack().T\n",
    "\n",
    "fig, ax = plt.subplots(figsize=(10, 5))\n",
    "data.plot(kind='bar', stacked=False, ax=ax)\n",
    "\n",
    "# Add text labels above each bar\n",
    "for p in ax.patches:\n",
    "    ax.annotate(format(p.get_height(), '.2%'), (p.get_x() + p.get_width() / 2., p.get_height()),\n",
    "                ha='center', va='center', xytext=(0, 5), textcoords='offset points')\n",
    "\n",
    "plt.show()\n"
   ]
  },
  {
   "cell_type": "code",
   "execution_count": 21,
   "id": "befa5586",
   "metadata": {},
   "outputs": [
    {
     "data": {
      "image/png": "[encoded data removed]",
      "text/plain": [
       "<Figure size 1000x500 with 1 Axes>"
      ]
     },
     "metadata": {},
     "output_type": "display_data"
    }
   ],
   "source": [
    "import matplotlib.pyplot as plt\n",
    "\n",
    "data = df.query(\"n_tons == 3\").groupby([\"publico\"])[\"ratos_wistar_tom\"].value_counts(normalize=True).unstack().T\n",
    "\n",
    "fig, ax = plt.subplots(figsize=(10, 5))\n",
    "data.plot(kind='bar', stacked=True, ax=ax)\n",
    "\n",
    "# add text inside each bar, 2 decimal places\n",
    "\"\"\"\n",
    "for p in ax.patches:\n",
    "    ax.annotate(format(p.get_height(), '.2%'), (p.get_x() + p.get_width() / 2., p.get_height()),\n",
    "                ha='center', va='center', xytext=(0, 5), textcoords='offset points')\n",
    "\"\"\"\n",
    "\n",
    "# add text inside each bar, 2 decimal places\n",
    "for p in ax.patches:\n",
    "    width, height = p.get_width(), p.get_height()\n",
    "    x, y = p.get_xy()\n",
    "    ax.annotate(f'{height:.2%}', (x + 0.5 * width, y + 0.5 * height), ha='center', va='center')\n",
    "\n",
    "\n",
    "# change legend title\n",
    "ax.legend(title=\"Público\", loc=2, fontsize='small', fancybox=True)\n",
    "\n",
    "# change xlabel\n",
    "\n",
    "ax.set_xlabel('Tom Ratos Wistar')\n",
    "\n",
    "# rotate xaxis 45\n",
    "\n",
    "ax.set_xticklabels(ax.get_xticklabels(), rotation=45)\n",
    "plt.show()\n"
   ]
  },
  {
   "cell_type": "code",
   "execution_count": 23,
   "id": "63e4f7a8",
   "metadata": {},
   "outputs": [
    {
     "data": {
      "image/png": "[encoded data removed]",
      "text/plain": [
       "<Figure size 1000x500 with 1 Axes>"
      ]
     },
     "metadata": {},
     "output_type": "display_data"
    }
   ],
   "source": [
    "# horizontal bar plot\n",
    "\n",
    "data = df.query(\"n_tons == 3\").groupby([\"publico\"])[\"ratos_wistar_tom\"].value_counts(normalize=True).unstack().T\n",
    "\n",
    "fig, ax = plt.subplots(figsize=(10, 5))\n",
    "data.plot(kind='barh', stacked=False, ax=ax)\n",
    "\n",
    "# Add text labels on the side of each bar\n",
    "for p in ax.patches:\n",
    "    ax.annotate(format(p.get_width(), '.2%'), (p.get_width(), p.get_y() + p.get_height() / 2.),\n",
    "                ha='center', va='center', xytext=(5, 0), textcoords='offset points')\n",
    "\n",
    "plt.show()"
   ]
  },
  {
   "cell_type": "code",
   "execution_count": 25,
   "id": "583fc312",
   "metadata": {},
   "outputs": [
    {
     "data": {
      "image/png": "[encoded data removed]",
      "text/plain": [
       "<Figure size 1000x500 with 1 Axes>"
      ]
     },
     "metadata": {},
     "output_type": "display_data"
    }
   ],
   "source": [
    "# stacked horizontal bar plot\n",
    "\n",
    "data = df.query(\"n_tons == 3\").groupby([\"publico\"])[\"ratos_wistar_tom\"].value_counts(normalize=True).unstack().T\n",
    "\n",
    "fig, ax = plt.subplots(figsize=(10, 5))\n",
    "data.plot(kind='barh', stacked=True, ax=ax)\n",
    "\n",
    "# Add text labels on the side of each bar\n",
    "\n",
    "for p in ax.patches:\n",
    "    width, height = p.get_width(), p.get_height()\n",
    "    x, y = p.get_xy()\n",
    "    ax.annotate(f'{width:.2%}', (x + 0.5 * width, y + 0.5 * height), ha='center', va='center')\n",
    "\n",
    "plt.show()"
   ]
  },
  {
   "cell_type": "code",
   "execution_count": 33,
   "id": "2c705b14",
   "metadata": {},
   "outputs": [
    {
     "data": {
      "text/plain": [
       "<Axes: ylabel='publico_rato'>"
      ]
     },
     "execution_count": 33,
     "metadata": {},
     "output_type": "execute_result"
    },
    {
     "data": {
      "image/png": "[encoded data removed]",
      "text/plain": [
       "<Figure size 1000x500 with 1 Axes>"
      ]
     },
     "metadata": {},
     "output_type": "display_data"
    }
   ],
   "source": [
    "data = df.query(\"n_tons == 3\").groupby([\"publico\"])[\"ratos_wistar_tom\"].value_counts(normalize=True).reset_index(name='percentage')\n",
    "\n",
    "# join the first two columns into one\n",
    "data['publico_rato'] = data['publico'] + ' ' + data['ratos_wistar_tom']\n",
    "\n",
    "# do a column chart with legend for each public_rato value\n",
    "fig, ax = plt.subplots(figsize=(10, 5))\n",
    "data.sort_values(\"percentage\").plot(kind='barh', x='publico_rato', y='percentage', ax=ax, legend=False)\n",
    "\n",
    "\n",
    "# Add text labels on the side of each bar"
   ]
  },
  {
   "attachments": {},
   "cell_type": "markdown",
   "id": "8d3de0bc",
   "metadata": {},
   "source": [
    "5 opcoes ratos"
   ]
  },
  {
   "cell_type": "code",
   "execution_count": 29,
   "id": "363f848f",
   "metadata": {},
   "outputs": [
    {
     "data": {
      "text/html": [
       "<div>\n",
       "<style scoped>\n",
       "    .dataframe tbody tr th:only-of-type {\n",
       "        vertical-align: middle;\n",
       "    }\n",
       "\n",
       "    .dataframe tbody tr th {\n",
       "        vertical-align: top;\n",
       "    }\n",
       "\n",
       "    .dataframe thead th {\n",
       "        text-align: right;\n",
       "    }\n",
       "</style>\n",
       "<table border=\"1\" class=\"dataframe\">\n",
       "  <thead>\n",
       "    <tr style=\"text-align: right;\">\n",
       "      <th>publico</th>\n",
       "      <th>Publico Anatomia</th>\n",
       "      <th>Publico Geral</th>\n",
       "    </tr>\n",
       "    <tr>\n",
       "      <th>ratos_wistar_tom</th>\n",
       "      <th></th>\n",
       "      <th></th>\n",
       "    </tr>\n",
       "  </thead>\n",
       "  <tbody>\n",
       "    <tr>\n",
       "      <th>Tom 1</th>\n",
       "      <td>0.065693</td>\n",
       "      <td>0.083682</td>\n",
       "    </tr>\n",
       "    <tr>\n",
       "      <th>Tom 2</th>\n",
       "      <td>0.240876</td>\n",
       "      <td>0.347280</td>\n",
       "    </tr>\n",
       "    <tr>\n",
       "      <th>Tom 3</th>\n",
       "      <td>0.496350</td>\n",
       "      <td>0.313808</td>\n",
       "    </tr>\n",
       "    <tr>\n",
       "      <th>Tom 4</th>\n",
       "      <td>0.167883</td>\n",
       "      <td>0.138075</td>\n",
       "    </tr>\n",
       "    <tr>\n",
       "      <th>Tom 5</th>\n",
       "      <td>0.029197</td>\n",
       "      <td>0.117155</td>\n",
       "    </tr>\n",
       "  </tbody>\n",
       "</table>\n",
       "</div>"
      ],
      "text/plain": [
       "publico           Publico Anatomia  Publico Geral\n",
       "ratos_wistar_tom                                 \n",
       "Tom 1                     0.065693       0.083682\n",
       "Tom 2                     0.240876       0.347280\n",
       "Tom 3                     0.496350       0.313808\n",
       "Tom 4                     0.167883       0.138075\n",
       "Tom 5                     0.029197       0.117155"
      ]
     },
     "metadata": {},
     "output_type": "display_data"
    },
    {
     "name": "stderr",
     "output_type": "stream",
     "text": [
      "No artists with labels found to put in legend.  Note that artists whose label start with an underscore are ignored when legend() is called with no argument.\n"
     ]
    },
    {
     "data": {
      "text/html": [
       "<div>\n",
       "<style scoped>\n",
       "    .dataframe tbody tr th:only-of-type {\n",
       "        vertical-align: middle;\n",
       "    }\n",
       "\n",
       "    .dataframe tbody tr th {\n",
       "        vertical-align: top;\n",
       "    }\n",
       "\n",
       "    .dataframe thead th {\n",
       "        text-align: right;\n",
       "    }\n",
       "</style>\n",
       "<table border=\"1\" class=\"dataframe\">\n",
       "  <thead>\n",
       "    <tr style=\"text-align: right;\">\n",
       "      <th>publico</th>\n",
       "      <th>Publico Anatomia</th>\n",
       "      <th>Publico Geral</th>\n",
       "    </tr>\n",
       "    <tr>\n",
       "      <th>ratos_wistar_tom</th>\n",
       "      <th></th>\n",
       "      <th></th>\n",
       "    </tr>\n",
       "  </thead>\n",
       "  <tbody>\n",
       "    <tr>\n",
       "      <th>Tom 1</th>\n",
       "      <td>9</td>\n",
       "      <td>20</td>\n",
       "    </tr>\n",
       "    <tr>\n",
       "      <th>Tom 2</th>\n",
       "      <td>33</td>\n",
       "      <td>83</td>\n",
       "    </tr>\n",
       "    <tr>\n",
       "      <th>Tom 3</th>\n",
       "      <td>68</td>\n",
       "      <td>75</td>\n",
       "    </tr>\n",
       "    <tr>\n",
       "      <th>Tom 4</th>\n",
       "      <td>23</td>\n",
       "      <td>33</td>\n",
       "    </tr>\n",
       "    <tr>\n",
       "      <th>Tom 5</th>\n",
       "      <td>4</td>\n",
       "      <td>28</td>\n",
       "    </tr>\n",
       "  </tbody>\n",
       "</table>\n",
       "</div>"
      ],
      "text/plain": [
       "publico           Publico Anatomia  Publico Geral\n",
       "ratos_wistar_tom                                 \n",
       "Tom 1                            9             20\n",
       "Tom 2                           33             83\n",
       "Tom 3                           68             75\n",
       "Tom 4                           23             33\n",
       "Tom 5                            4             28"
      ]
     },
     "metadata": {},
     "output_type": "display_data"
    },
    {
     "data": {
      "image/png": "[encoded data removed]",
      "text/plain": [
       "<Figure size 640x480 with 1 Axes>"
      ]
     },
     "metadata": {},
     "output_type": "display_data"
    }
   ],
   "source": [
    "# porcentagem do geral\n",
    "\n",
    "display(\n",
    "    df.query(\"n_tons == 5\")\n",
    "    .groupby([\"publico\"])[\"ratos_wistar_tom\"]\n",
    "    .value_counts(normalize=True)\n",
    "    .unstack().T#.plot(kind='bar', stacked=False, figsize=(10, 5))\n",
    ")\n",
    "plt.xlabel('Tom Ratos Wistar')\n",
    "plt.ylabel('Porcentagem')\n",
    "\n",
    "ratos_5t_publico = (\n",
    "    df.query(\"n_tons == 5\")\n",
    "    .groupby([\"ratos_wistar_tom\"])[\"publico\"]\n",
    "    .value_counts(normalize=False)\n",
    "    .unstack()\n",
    ")\n",
    "plt.title(f'Ratos Wistar 5 opções - $\\chi^2$ = {stats.chi2_contingency(ratos_5t_publico).pvalue:.3f}')\n",
    "legend = plt.legend(title=\"Público\", loc=2, fontsize='small', fancybox=True)\n",
    "# display(ratos_3t_publico.plot())\n",
    "\n",
    "display(ratos_5t_publico)\n",
    "\n"
   ]
  },
  {
   "attachments": {},
   "cell_type": "markdown",
   "id": "d656608b",
   "metadata": {},
   "source": [
    "3 opcoes animais"
   ]
  },
  {
   "cell_type": "code",
   "execution_count": 30,
   "id": "ff176d3d",
   "metadata": {},
   "outputs": [
    {
     "data": {
      "text/plain": [
       "<Axes: xlabel='animais_silvestres_tom'>"
      ]
     },
     "metadata": {},
     "output_type": "display_data"
    },
    {
     "data": {
      "text/html": [
       "<div>\n",
       "<style scoped>\n",
       "    .dataframe tbody tr th:only-of-type {\n",
       "        vertical-align: middle;\n",
       "    }\n",
       "\n",
       "    .dataframe tbody tr th {\n",
       "        vertical-align: top;\n",
       "    }\n",
       "\n",
       "    .dataframe thead th {\n",
       "        text-align: right;\n",
       "    }\n",
       "</style>\n",
       "<table border=\"1\" class=\"dataframe\">\n",
       "  <thead>\n",
       "    <tr style=\"text-align: right;\">\n",
       "      <th>publico</th>\n",
       "      <th>Publico Anatomia</th>\n",
       "      <th>Publico Geral</th>\n",
       "    </tr>\n",
       "    <tr>\n",
       "      <th>animais_silvestres_tom</th>\n",
       "      <th></th>\n",
       "      <th></th>\n",
       "    </tr>\n",
       "  </thead>\n",
       "  <tbody>\n",
       "    <tr>\n",
       "      <th>Tom 1</th>\n",
       "      <td>26</td>\n",
       "      <td>37</td>\n",
       "    </tr>\n",
       "    <tr>\n",
       "      <th>Tom 2</th>\n",
       "      <td>34</td>\n",
       "      <td>59</td>\n",
       "    </tr>\n",
       "    <tr>\n",
       "      <th>Tom 3</th>\n",
       "      <td>50</td>\n",
       "      <td>57</td>\n",
       "    </tr>\n",
       "  </tbody>\n",
       "</table>\n",
       "</div>"
      ],
      "text/plain": [
       "publico                 Publico Anatomia  Publico Geral\n",
       "animais_silvestres_tom                                 \n",
       "Tom 1                                 26             37\n",
       "Tom 2                                 34             59\n",
       "Tom 3                                 50             57"
      ]
     },
     "metadata": {},
     "output_type": "display_data"
    },
    {
     "data": {
      "image/png": "[encoded data removed]",
      "text/plain": [
       "<Figure size 1000x500 with 1 Axes>"
      ]
     },
     "metadata": {},
     "output_type": "display_data"
    }
   ],
   "source": [
    "# porcentagem do geral\n",
    "\n",
    "display(\n",
    "    df.query(\"n_tons == 3\")\n",
    "    .groupby([\"publico\"])[\"animais_silvestres_tom\"]\n",
    "    .value_counts(normalize=True)\n",
    "    .unstack().T.plot(kind='bar', stacked=False, figsize=(10, 5))\n",
    ")\n",
    "plt.xlabel('Tom Ratos Wistar')\n",
    "plt.ylabel('Porcentagem')\n",
    "\n",
    "ratos_5t_publico = (\n",
    "    df.query(\"n_tons == 3\")\n",
    "    .groupby([\"animais_silvestres_tom\"])[\"publico\"]\n",
    "    .value_counts(normalize=False)\n",
    "    .unstack()\n",
    ")\n",
    "plt.title(f'Animais 3 opções - $\\chi^2$ = {stats.chi2_contingency(ratos_5t_publico).pvalue:.3f}')\n",
    "legend = plt.legend(title=\"Público\", loc=2, fontsize='small', fancybox=True)\n",
    "# display(ratos_3t_publico.plot())\n",
    "\n",
    "display(ratos_5t_publico)\n",
    "\n"
   ]
  },
  {
   "attachments": {},
   "cell_type": "markdown",
   "id": "515f593d",
   "metadata": {},
   "source": [
    "5 opcoes animais"
   ]
  },
  {
   "cell_type": "code",
   "execution_count": 31,
   "id": "592a04e0",
   "metadata": {},
   "outputs": [
    {
     "data": {
      "text/html": [
       "<div>\n",
       "<style scoped>\n",
       "    .dataframe tbody tr th:only-of-type {\n",
       "        vertical-align: middle;\n",
       "    }\n",
       "\n",
       "    .dataframe tbody tr th {\n",
       "        vertical-align: top;\n",
       "    }\n",
       "\n",
       "    .dataframe thead th {\n",
       "        text-align: right;\n",
       "    }\n",
       "</style>\n",
       "<table border=\"1\" class=\"dataframe\">\n",
       "  <thead>\n",
       "    <tr style=\"text-align: right;\">\n",
       "      <th>publico</th>\n",
       "      <th>Publico Anatomia</th>\n",
       "      <th>Publico Geral</th>\n",
       "    </tr>\n",
       "    <tr>\n",
       "      <th>animais_silvestres_tom</th>\n",
       "      <th></th>\n",
       "      <th></th>\n",
       "    </tr>\n",
       "  </thead>\n",
       "  <tbody>\n",
       "    <tr>\n",
       "      <th>Tom 1</th>\n",
       "      <td>0.116788</td>\n",
       "      <td>0.175732</td>\n",
       "    </tr>\n",
       "    <tr>\n",
       "      <th>Tom 2</th>\n",
       "      <td>0.313869</td>\n",
       "      <td>0.200837</td>\n",
       "    </tr>\n",
       "    <tr>\n",
       "      <th>Tom 3</th>\n",
       "      <td>0.306569</td>\n",
       "      <td>0.301255</td>\n",
       "    </tr>\n",
       "    <tr>\n",
       "      <th>Tom 4</th>\n",
       "      <td>0.211679</td>\n",
       "      <td>0.184100</td>\n",
       "    </tr>\n",
       "    <tr>\n",
       "      <th>Tom 5</th>\n",
       "      <td>0.051095</td>\n",
       "      <td>0.138075</td>\n",
       "    </tr>\n",
       "  </tbody>\n",
       "</table>\n",
       "</div>"
      ],
      "text/plain": [
       "publico                 Publico Anatomia  Publico Geral\n",
       "animais_silvestres_tom                                 \n",
       "Tom 1                           0.116788       0.175732\n",
       "Tom 2                           0.313869       0.200837\n",
       "Tom 3                           0.306569       0.301255\n",
       "Tom 4                           0.211679       0.184100\n",
       "Tom 5                           0.051095       0.138075"
      ]
     },
     "metadata": {},
     "output_type": "display_data"
    },
    {
     "name": "stderr",
     "output_type": "stream",
     "text": [
      "No artists with labels found to put in legend.  Note that artists whose label start with an underscore are ignored when legend() is called with no argument.\n"
     ]
    },
    {
     "data": {
      "text/html": [
       "<div>\n",
       "<style scoped>\n",
       "    .dataframe tbody tr th:only-of-type {\n",
       "        vertical-align: middle;\n",
       "    }\n",
       "\n",
       "    .dataframe tbody tr th {\n",
       "        vertical-align: top;\n",
       "    }\n",
       "\n",
       "    .dataframe thead th {\n",
       "        text-align: right;\n",
       "    }\n",
       "</style>\n",
       "<table border=\"1\" class=\"dataframe\">\n",
       "  <thead>\n",
       "    <tr style=\"text-align: right;\">\n",
       "      <th>publico</th>\n",
       "      <th>Publico Anatomia</th>\n",
       "      <th>Publico Geral</th>\n",
       "    </tr>\n",
       "    <tr>\n",
       "      <th>animais_silvestres_tom</th>\n",
       "      <th></th>\n",
       "      <th></th>\n",
       "    </tr>\n",
       "  </thead>\n",
       "  <tbody>\n",
       "    <tr>\n",
       "      <th>Tom 1</th>\n",
       "      <td>16</td>\n",
       "      <td>42</td>\n",
       "    </tr>\n",
       "    <tr>\n",
       "      <th>Tom 2</th>\n",
       "      <td>43</td>\n",
       "      <td>48</td>\n",
       "    </tr>\n",
       "    <tr>\n",
       "      <th>Tom 3</th>\n",
       "      <td>42</td>\n",
       "      <td>72</td>\n",
       "    </tr>\n",
       "    <tr>\n",
       "      <th>Tom 4</th>\n",
       "      <td>29</td>\n",
       "      <td>44</td>\n",
       "    </tr>\n",
       "    <tr>\n",
       "      <th>Tom 5</th>\n",
       "      <td>7</td>\n",
       "      <td>33</td>\n",
       "    </tr>\n",
       "  </tbody>\n",
       "</table>\n",
       "</div>"
      ],
      "text/plain": [
       "publico                 Publico Anatomia  Publico Geral\n",
       "animais_silvestres_tom                                 \n",
       "Tom 1                                 16             42\n",
       "Tom 2                                 43             48\n",
       "Tom 3                                 42             72\n",
       "Tom 4                                 29             44\n",
       "Tom 5                                  7             33"
      ]
     },
     "metadata": {},
     "output_type": "display_data"
    },
    {
     "data": {
      "image/png": "[encoded data removed]",
      "text/plain": [
       "<Figure size 640x480 with 1 Axes>"
      ]
     },
     "metadata": {},
     "output_type": "display_data"
    }
   ],
   "source": [
    "# porcentagem do geral\n",
    "\n",
    "display(\n",
    "    df.query(\"n_tons == 5\")\n",
    "    .groupby([\"publico\"])[\"animais_silvestres_tom\"]\n",
    "    .value_counts(normalize=True)\n",
    "    .unstack().T#.plot(kind='bar', stacked=False, figsize=(10, 5))\n",
    ")\n",
    "plt.xlabel('Tom Ratos Wistar')\n",
    "plt.ylabel('Porcentagem')\n",
    "\n",
    "ratos_5t_publico = (\n",
    "    df.query(\"n_tons == 5\")\n",
    "    .groupby([\"animais_silvestres_tom\"])[\"publico\"]\n",
    "    .value_counts(normalize=False)\n",
    "    .unstack()\n",
    ")\n",
    "plt.title(f'Animais 5 opções - $\\chi^2$ = {stats.chi2_contingency(ratos_5t_publico).pvalue:.3f}')\n",
    "legend = plt.legend(title=\"Público\", loc=2, fontsize='small', fancybox=True)\n",
    "# display(ratos_3t_publico.plot())\n",
    "\n",
    "display(ratos_5t_publico)\n",
    "\n"
   ]
  },
  {
   "attachments": {},
   "cell_type": "markdown",
   "id": "ac8608d1",
   "metadata": {},
   "source": [
    "## Questao 3 - modificada\n",
    "comparar para tecnico e geral, resposta 3, 5 entre rato e animal ( 4 tabelas, cohen_kappa, macnemar)\n",
    "\n",
    "pergunta: sera que as diferentes populações concordam entre os tons dos animais?\n",
    "\n",
    "teste: quiquadrado independencia\\\n",
    "hipotese nula: as populações concordam entre os tons de animais\\\n",
    "hipontese alternativa: as populacoes nao concordam entre os tons de animais"
   ]
  },
  {
   "cell_type": "code",
   "execution_count": 36,
   "id": "37352792",
   "metadata": {},
   "outputs": [
    {
     "name": "stdout",
     "output_type": "stream",
     "text": [
      "tecnico 3 tons\n"
     ]
    },
    {
     "data": {
      "text/html": [
       "<div>\n",
       "<style scoped>\n",
       "    .dataframe tbody tr th:only-of-type {\n",
       "        vertical-align: middle;\n",
       "    }\n",
       "\n",
       "    .dataframe tbody tr th {\n",
       "        vertical-align: top;\n",
       "    }\n",
       "\n",
       "    .dataframe thead th {\n",
       "        text-align: right;\n",
       "    }\n",
       "</style>\n",
       "<table border=\"1\" class=\"dataframe\">\n",
       "  <thead>\n",
       "    <tr style=\"text-align: right;\">\n",
       "      <th>animais_silvestres_tom</th>\n",
       "      <th>Tom 1</th>\n",
       "      <th>Tom 2</th>\n",
       "      <th>Tom 3</th>\n",
       "    </tr>\n",
       "    <tr>\n",
       "      <th>ratos_wistar_tom</th>\n",
       "      <th></th>\n",
       "      <th></th>\n",
       "      <th></th>\n",
       "    </tr>\n",
       "  </thead>\n",
       "  <tbody>\n",
       "    <tr>\n",
       "      <th>Tom 1</th>\n",
       "      <td>7</td>\n",
       "      <td>5</td>\n",
       "      <td>1</td>\n",
       "    </tr>\n",
       "    <tr>\n",
       "      <th>Tom 2</th>\n",
       "      <td>11</td>\n",
       "      <td>22</td>\n",
       "      <td>15</td>\n",
       "    </tr>\n",
       "    <tr>\n",
       "      <th>Tom 3</th>\n",
       "      <td>8</td>\n",
       "      <td>7</td>\n",
       "      <td>34</td>\n",
       "    </tr>\n",
       "  </tbody>\n",
       "</table>\n",
       "</div>"
      ],
      "text/plain": [
       "animais_silvestres_tom  Tom 1  Tom 2  Tom 3\n",
       "ratos_wistar_tom                           \n",
       "Tom 1                       7      5      1\n",
       "Tom 2                      11     22     15\n",
       "Tom 3                       8      7     34"
      ]
     },
     "metadata": {},
     "output_type": "display_data"
    },
    {
     "name": "stdout",
     "output_type": "stream",
     "text": [
      "Chi2ContingencyResult(statistic=26.601046513279865, pvalue=2.393360239117975e-05, dof=4, expected_freq=array([[ 3.07272727,  4.01818182,  5.90909091],\n",
      "       [11.34545455, 14.83636364, 21.81818182],\n",
      "       [11.58181818, 15.14545455, 22.27272727]]))\n",
      "geral_3tons\n"
     ]
    },
    {
     "data": {
      "text/html": [
       "<div>\n",
       "<style scoped>\n",
       "    .dataframe tbody tr th:only-of-type {\n",
       "        vertical-align: middle;\n",
       "    }\n",
       "\n",
       "    .dataframe tbody tr th {\n",
       "        vertical-align: top;\n",
       "    }\n",
       "\n",
       "    .dataframe thead th {\n",
       "        text-align: right;\n",
       "    }\n",
       "</style>\n",
       "<table border=\"1\" class=\"dataframe\">\n",
       "  <thead>\n",
       "    <tr style=\"text-align: right;\">\n",
       "      <th>animais_silvestres_tom</th>\n",
       "      <th>Tom 1</th>\n",
       "      <th>Tom 2</th>\n",
       "      <th>Tom 3</th>\n",
       "    </tr>\n",
       "    <tr>\n",
       "      <th>ratos_wistar_tom</th>\n",
       "      <th></th>\n",
       "      <th></th>\n",
       "      <th></th>\n",
       "    </tr>\n",
       "  </thead>\n",
       "  <tbody>\n",
       "    <tr>\n",
       "      <th>Tom 1</th>\n",
       "      <td>11.0</td>\n",
       "      <td>4.0</td>\n",
       "      <td>0.0</td>\n",
       "    </tr>\n",
       "    <tr>\n",
       "      <th>Tom 2</th>\n",
       "      <td>14.0</td>\n",
       "      <td>46.0</td>\n",
       "      <td>11.0</td>\n",
       "    </tr>\n",
       "    <tr>\n",
       "      <th>Tom 3</th>\n",
       "      <td>12.0</td>\n",
       "      <td>9.0</td>\n",
       "      <td>46.0</td>\n",
       "    </tr>\n",
       "  </tbody>\n",
       "</table>\n",
       "</div>"
      ],
      "text/plain": [
       "animais_silvestres_tom  Tom 1  Tom 2  Tom 3\n",
       "ratos_wistar_tom                           \n",
       "Tom 1                    11.0    4.0    0.0\n",
       "Tom 2                    14.0   46.0   11.0\n",
       "Tom 3                    12.0    9.0   46.0"
      ]
     },
     "metadata": {},
     "output_type": "display_data"
    },
    {
     "name": "stdout",
     "output_type": "stream",
     "text": [
      "Chi2ContingencyResult(statistic=73.19345076876974, pvalue=4.801690129683208e-15, dof=4, expected_freq=array([[ 3.62745098,  5.78431373,  5.58823529],\n",
      "       [17.16993464, 27.37908497, 26.45098039],\n",
      "       [16.20261438, 25.83660131, 24.96078431]]))\n",
      "tecnico_5tons\n"
     ]
    },
    {
     "data": {
      "text/html": [
       "<div>\n",
       "<style scoped>\n",
       "    .dataframe tbody tr th:only-of-type {\n",
       "        vertical-align: middle;\n",
       "    }\n",
       "\n",
       "    .dataframe tbody tr th {\n",
       "        vertical-align: top;\n",
       "    }\n",
       "\n",
       "    .dataframe thead th {\n",
       "        text-align: right;\n",
       "    }\n",
       "</style>\n",
       "<table border=\"1\" class=\"dataframe\">\n",
       "  <thead>\n",
       "    <tr style=\"text-align: right;\">\n",
       "      <th>animais_silvestres_tom</th>\n",
       "      <th>Tom 1</th>\n",
       "      <th>Tom 2</th>\n",
       "      <th>Tom 3</th>\n",
       "      <th>Tom 4</th>\n",
       "      <th>Tom 5</th>\n",
       "    </tr>\n",
       "    <tr>\n",
       "      <th>ratos_wistar_tom</th>\n",
       "      <th></th>\n",
       "      <th></th>\n",
       "      <th></th>\n",
       "      <th></th>\n",
       "      <th></th>\n",
       "    </tr>\n",
       "  </thead>\n",
       "  <tbody>\n",
       "    <tr>\n",
       "      <th>Tom 1</th>\n",
       "      <td>2.0</td>\n",
       "      <td>3.0</td>\n",
       "      <td>1.0</td>\n",
       "      <td>3.0</td>\n",
       "      <td>0.0</td>\n",
       "    </tr>\n",
       "    <tr>\n",
       "      <th>Tom 2</th>\n",
       "      <td>3.0</td>\n",
       "      <td>16.0</td>\n",
       "      <td>10.0</td>\n",
       "      <td>3.0</td>\n",
       "      <td>1.0</td>\n",
       "    </tr>\n",
       "    <tr>\n",
       "      <th>Tom 3</th>\n",
       "      <td>8.0</td>\n",
       "      <td>20.0</td>\n",
       "      <td>22.0</td>\n",
       "      <td>17.0</td>\n",
       "      <td>1.0</td>\n",
       "    </tr>\n",
       "    <tr>\n",
       "      <th>Tom 4</th>\n",
       "      <td>2.0</td>\n",
       "      <td>3.0</td>\n",
       "      <td>9.0</td>\n",
       "      <td>6.0</td>\n",
       "      <td>3.0</td>\n",
       "    </tr>\n",
       "    <tr>\n",
       "      <th>Tom 5</th>\n",
       "      <td>1.0</td>\n",
       "      <td>1.0</td>\n",
       "      <td>0.0</td>\n",
       "      <td>0.0</td>\n",
       "      <td>2.0</td>\n",
       "    </tr>\n",
       "  </tbody>\n",
       "</table>\n",
       "</div>"
      ],
      "text/plain": [
       "animais_silvestres_tom  Tom 1  Tom 2  Tom 3  Tom 4  Tom 5\n",
       "ratos_wistar_tom                                         \n",
       "Tom 1                     2.0    3.0    1.0    3.0    0.0\n",
       "Tom 2                     3.0   16.0   10.0    3.0    1.0\n",
       "Tom 3                     8.0   20.0   22.0   17.0    1.0\n",
       "Tom 4                     2.0    3.0    9.0    6.0    3.0\n",
       "Tom 5                     1.0    1.0    0.0    0.0    2.0"
      ]
     },
     "metadata": {},
     "output_type": "display_data"
    },
    {
     "name": "stdout",
     "output_type": "stream",
     "text": [
      "Chi2ContingencyResult(statistic=36.06286987952586, pvalue=0.002835865069118951, dof=16, expected_freq=array([[ 1.05109489,  2.82481752,  2.75912409,  1.90510949,  0.45985401],\n",
      "       [ 3.8540146 , 10.35766423, 10.11678832,  6.98540146,  1.68613139],\n",
      "       [ 7.94160584, 21.34306569, 20.84671533, 14.39416058,  3.47445255],\n",
      "       [ 2.68613139,  7.2189781 ,  7.05109489,  4.86861314,  1.17518248],\n",
      "       [ 0.46715328,  1.25547445,  1.22627737,  0.84671533,  0.20437956]]))\n",
      "geral_5tons\n"
     ]
    },
    {
     "data": {
      "text/html": [
       "<div>\n",
       "<style scoped>\n",
       "    .dataframe tbody tr th:only-of-type {\n",
       "        vertical-align: middle;\n",
       "    }\n",
       "\n",
       "    .dataframe tbody tr th {\n",
       "        vertical-align: top;\n",
       "    }\n",
       "\n",
       "    .dataframe thead th {\n",
       "        text-align: right;\n",
       "    }\n",
       "</style>\n",
       "<table border=\"1\" class=\"dataframe\">\n",
       "  <thead>\n",
       "    <tr style=\"text-align: right;\">\n",
       "      <th>animais_silvestres_tom</th>\n",
       "      <th>Tom 1</th>\n",
       "      <th>Tom 2</th>\n",
       "      <th>Tom 3</th>\n",
       "      <th>Tom 4</th>\n",
       "      <th>Tom 5</th>\n",
       "    </tr>\n",
       "    <tr>\n",
       "      <th>ratos_wistar_tom</th>\n",
       "      <th></th>\n",
       "      <th></th>\n",
       "      <th></th>\n",
       "      <th></th>\n",
       "      <th></th>\n",
       "    </tr>\n",
       "  </thead>\n",
       "  <tbody>\n",
       "    <tr>\n",
       "      <th>Tom 1</th>\n",
       "      <td>9</td>\n",
       "      <td>4</td>\n",
       "      <td>3</td>\n",
       "      <td>2</td>\n",
       "      <td>2</td>\n",
       "    </tr>\n",
       "    <tr>\n",
       "      <th>Tom 2</th>\n",
       "      <td>17</td>\n",
       "      <td>28</td>\n",
       "      <td>18</td>\n",
       "      <td>19</td>\n",
       "      <td>1</td>\n",
       "    </tr>\n",
       "    <tr>\n",
       "      <th>Tom 3</th>\n",
       "      <td>10</td>\n",
       "      <td>11</td>\n",
       "      <td>39</td>\n",
       "      <td>11</td>\n",
       "      <td>4</td>\n",
       "    </tr>\n",
       "    <tr>\n",
       "      <th>Tom 4</th>\n",
       "      <td>3</td>\n",
       "      <td>2</td>\n",
       "      <td>8</td>\n",
       "      <td>9</td>\n",
       "      <td>11</td>\n",
       "    </tr>\n",
       "    <tr>\n",
       "      <th>Tom 5</th>\n",
       "      <td>3</td>\n",
       "      <td>3</td>\n",
       "      <td>4</td>\n",
       "      <td>3</td>\n",
       "      <td>15</td>\n",
       "    </tr>\n",
       "  </tbody>\n",
       "</table>\n",
       "</div>"
      ],
      "text/plain": [
       "animais_silvestres_tom  Tom 1  Tom 2  Tom 3  Tom 4  Tom 5\n",
       "ratos_wistar_tom                                         \n",
       "Tom 1                       9      4      3      2      2\n",
       "Tom 2                      17     28     18     19      1\n",
       "Tom 3                      10     11     39     11      4\n",
       "Tom 4                       3      2      8      9     11\n",
       "Tom 5                       3      3      4      3     15"
      ]
     },
     "metadata": {},
     "output_type": "display_data"
    },
    {
     "name": "stdout",
     "output_type": "stream",
     "text": [
      "Chi2ContingencyResult(statistic=102.57335730513176, pvalue=1.1385149771055649e-14, dof=16, expected_freq=array([[ 3.51464435,  4.0167364 ,  6.0251046 ,  3.68200837,  2.76150628],\n",
      "       [14.58577406, 16.66945607, 25.0041841 , 15.28033473, 11.46025105],\n",
      "       [13.17991632, 15.06276151, 22.59414226, 13.80753138, 10.35564854],\n",
      "       [ 5.79916318,  6.62761506,  9.94142259,  6.07531381,  4.55648536],\n",
      "       [ 4.92050209,  5.62343096,  8.43514644,  5.15481172,  3.86610879]]))\n"
     ]
    }
   ],
   "source": [
    "# 3 tecnico\n",
    "tecnico_3tons = (\n",
    "    df.query('n_tons == 3 and publico == \"Publico Anatomia\"')\n",
    "    .groupby([\"ratos_wistar_tom\"])[\"animais_silvestres_tom\"]\n",
    "    .value_counts()\n",
    "    .unstack().fillna(0)\n",
    ")\n",
    "print(\"tecnico 3 tons\")\n",
    "display(tecnico_3tons)\n",
    "print(stats.chi2_contingency(tecnico_3tons))\n",
    "# 3 geral\n",
    "geral_3tons = (\n",
    "    df.query('n_tons == 3 and publico == \"Publico Geral\"')\n",
    "    .groupby([\"ratos_wistar_tom\"])[\"animais_silvestres_tom\"]\n",
    "    .value_counts()\n",
    "    .unstack().fillna(0)\n",
    ")\n",
    "print(\"geral_3tons\")\n",
    "display(geral_3tons)\n",
    "print(stats.chi2_contingency(geral_3tons))\n",
    "# 5 tecnico\n",
    "tecnico_5tons = (\n",
    "    df.query('n_tons == 5 and publico == \"Publico Anatomia\"')\n",
    "    .groupby([\"ratos_wistar_tom\"])[\"animais_silvestres_tom\"]\n",
    "    .value_counts()\n",
    "    .unstack().fillna(0)\n",
    ")\n",
    "print(\"tecnico_5tons\")\n",
    "display(tecnico_5tons)\n",
    "print(stats.chi2_contingency(tecnico_5tons))\n",
    "# 5 geral\n",
    "geral_5tons = (\n",
    "    df.query('n_tons == 5 and publico == \"Publico Geral\"')\n",
    "    .groupby([\"ratos_wistar_tom\"])[\"animais_silvestres_tom\"]\n",
    "    .value_counts()\n",
    "    .unstack().fillna(0)\n",
    ")\n",
    "print(\"geral_5tons\")\n",
    "display(geral_5tons)\n",
    "print(stats.chi2_contingency(geral_5tons))\n",
    "\n",
    "# df.groupby([\"ratos_wistar_tom\"])[\"animais_silvestres_tom\"].value_counts().unstack()\n"
   ]
  },
  {
   "cell_type": "code",
   "execution_count": 33,
   "id": "b495deb1",
   "metadata": {},
   "outputs": [],
   "source": [
    "# todos os publicos, 3 e 5 tons concordam?"
   ]
  },
  {
   "attachments": {},
   "cell_type": "markdown",
   "id": "fc1b1d1c",
   "metadata": {},
   "source": [
    "### Separar virgulas"
   ]
  },
  {
   "cell_type": "code",
   "execution_count": 34,
   "id": "bbf4659f",
   "metadata": {},
   "outputs": [],
   "source": [
    "# def put_list(x):\n",
    "#     try:\n",
    "#         return [el.strip() for el in str(x).split(\",\")]\n",
    "#     except:\n",
    "#         return x\n",
    "\n",
    "\n",
    "# df['Meio usado para compras'] = df[\"Meio usado para compras\"].apply(put_list)\n",
    "\n",
    "# df = df.explode('Meio usado para compras')\n",
    "\n",
    "# df = df[df['Meio usado para compras'] != 'nan']\n"
   ]
  },
  {
   "attachments": {},
   "cell_type": "markdown",
   "id": "7a720882",
   "metadata": {},
   "source": [
    "## Questão 5\n",
    "\n",
    "compara as escolhas de cor entre 3 e 5 tons, separando animal e rato, geral e tecnico"
   ]
  },
  {
   "cell_type": "code",
   "execution_count": 1,
   "id": "f4f08266",
   "metadata": {},
   "outputs": [
    {
     "ename": "NameError",
     "evalue": "name 'df' is not defined",
     "output_type": "error",
     "traceback": [
      "\u001b[1;31m---------------------------------------------------------------------------\u001b[0m",
      "\u001b[1;31mNameError\u001b[0m                                 Traceback (most recent call last)",
      "Cell \u001b[1;32mIn[1], line 1\u001b[0m\n\u001b[1;32m----> 1\u001b[0m df\n",
      "\u001b[1;31mNameError\u001b[0m: name 'df' is not defined"
     ]
    }
   ],
   "source": [
    "df"
   ]
  },
  {
   "cell_type": "code",
   "execution_count": 52,
   "id": "498f4f03",
   "metadata": {},
   "outputs": [
    {
     "data": {
      "text/html": [
       "<div>\n",
       "<style scoped>\n",
       "    .dataframe tbody tr th:only-of-type {\n",
       "        vertical-align: middle;\n",
       "    }\n",
       "\n",
       "    .dataframe tbody tr th {\n",
       "        vertical-align: top;\n",
       "    }\n",
       "\n",
       "    .dataframe thead th {\n",
       "        text-align: right;\n",
       "    }\n",
       "</style>\n",
       "<table border=\"1\" class=\"dataframe\">\n",
       "  <thead>\n",
       "    <tr style=\"text-align: right;\">\n",
       "      <th>ratos_wistar_tom</th>\n",
       "      <th>Tom 1</th>\n",
       "      <th>Tom 2</th>\n",
       "      <th>Tom 3</th>\n",
       "      <th>Tom 4</th>\n",
       "      <th>Tom 5</th>\n",
       "    </tr>\n",
       "    <tr>\n",
       "      <th>n_tons</th>\n",
       "      <th></th>\n",
       "      <th></th>\n",
       "      <th></th>\n",
       "      <th></th>\n",
       "      <th></th>\n",
       "    </tr>\n",
       "  </thead>\n",
       "  <tbody>\n",
       "    <tr>\n",
       "      <th>3</th>\n",
       "      <td>0.118182</td>\n",
       "      <td>0.436364</td>\n",
       "      <td>0.445455</td>\n",
       "      <td>0.000000</td>\n",
       "      <td>0.000000</td>\n",
       "    </tr>\n",
       "    <tr>\n",
       "      <th>5</th>\n",
       "      <td>0.065693</td>\n",
       "      <td>0.240876</td>\n",
       "      <td>0.496350</td>\n",
       "      <td>0.167883</td>\n",
       "      <td>0.029197</td>\n",
       "    </tr>\n",
       "  </tbody>\n",
       "</table>\n",
       "</div>"
      ],
      "text/plain": [
       "ratos_wistar_tom     Tom 1     Tom 2     Tom 3     Tom 4     Tom 5\n",
       "n_tons                                                            \n",
       "3                 0.118182  0.436364  0.445455  0.000000  0.000000\n",
       "5                 0.065693  0.240876  0.496350  0.167883  0.029197"
      ]
     },
     "metadata": {},
     "output_type": "display_data"
    },
    {
     "name": "stdout",
     "output_type": "stream",
     "text": [
      "Chi2ContingencyResult(statistic=0.2712421523381521, pvalue=0.9915941571106481, dof=4, expected_freq=array([[0.09193762, 0.33861977, 0.47090246, 0.08394161, 0.01459854],\n",
      "       [0.09193762, 0.33861977, 0.47090246, 0.08394161, 0.01459854]]))\n"
     ]
    },
    {
     "data": {
      "text/html": [
       "<div>\n",
       "<style scoped>\n",
       "    .dataframe tbody tr th:only-of-type {\n",
       "        vertical-align: middle;\n",
       "    }\n",
       "\n",
       "    .dataframe tbody tr th {\n",
       "        vertical-align: top;\n",
       "    }\n",
       "\n",
       "    .dataframe thead th {\n",
       "        text-align: right;\n",
       "    }\n",
       "</style>\n",
       "<table border=\"1\" class=\"dataframe\">\n",
       "  <thead>\n",
       "    <tr style=\"text-align: right;\">\n",
       "      <th>ratos_wistar_tom</th>\n",
       "      <th>Tom 1</th>\n",
       "      <th>Tom 2</th>\n",
       "      <th>Tom 3</th>\n",
       "      <th>Tom 4</th>\n",
       "      <th>Tom 5</th>\n",
       "    </tr>\n",
       "    <tr>\n",
       "      <th>n_tons</th>\n",
       "      <th></th>\n",
       "      <th></th>\n",
       "      <th></th>\n",
       "      <th></th>\n",
       "      <th></th>\n",
       "    </tr>\n",
       "  </thead>\n",
       "  <tbody>\n",
       "    <tr>\n",
       "      <th>3</th>\n",
       "      <td>0.098039</td>\n",
       "      <td>0.464052</td>\n",
       "      <td>0.437908</td>\n",
       "      <td>0.000000</td>\n",
       "      <td>0.000000</td>\n",
       "    </tr>\n",
       "    <tr>\n",
       "      <th>5</th>\n",
       "      <td>0.083682</td>\n",
       "      <td>0.347280</td>\n",
       "      <td>0.313808</td>\n",
       "      <td>0.138075</td>\n",
       "      <td>0.117155</td>\n",
       "    </tr>\n",
       "  </tbody>\n",
       "</table>\n",
       "</div>"
      ],
      "text/plain": [
       "ratos_wistar_tom     Tom 1     Tom 2     Tom 3     Tom 4     Tom 5\n",
       "n_tons                                                            \n",
       "3                 0.098039  0.464052  0.437908  0.000000  0.000000\n",
       "5                 0.083682  0.347280  0.313808  0.138075  0.117155"
      ]
     },
     "metadata": {},
     "output_type": "display_data"
    },
    {
     "name": "stdout",
     "output_type": "stream",
     "text": [
      "Chi2ContingencyResult(statistic=0.29365883154231176, pvalue=0.990219829238698, dof=4, expected_freq=array([[0.09086061, 0.40566631, 0.37585801, 0.06903766, 0.05857741],\n",
      "       [0.09086061, 0.40566631, 0.37585801, 0.06903766, 0.05857741]]))\n"
     ]
    },
    {
     "data": {
      "text/html": [
       "<div>\n",
       "<style scoped>\n",
       "    .dataframe tbody tr th:only-of-type {\n",
       "        vertical-align: middle;\n",
       "    }\n",
       "\n",
       "    .dataframe tbody tr th {\n",
       "        vertical-align: top;\n",
       "    }\n",
       "\n",
       "    .dataframe thead th {\n",
       "        text-align: right;\n",
       "    }\n",
       "</style>\n",
       "<table border=\"1\" class=\"dataframe\">\n",
       "  <thead>\n",
       "    <tr style=\"text-align: right;\">\n",
       "      <th>animais_silvestres_tom</th>\n",
       "      <th>Tom 1</th>\n",
       "      <th>Tom 2</th>\n",
       "      <th>Tom 3</th>\n",
       "      <th>Tom 4</th>\n",
       "      <th>Tom 5</th>\n",
       "    </tr>\n",
       "    <tr>\n",
       "      <th>n_tons</th>\n",
       "      <th></th>\n",
       "      <th></th>\n",
       "      <th></th>\n",
       "      <th></th>\n",
       "      <th></th>\n",
       "    </tr>\n",
       "  </thead>\n",
       "  <tbody>\n",
       "    <tr>\n",
       "      <th>3</th>\n",
       "      <td>0.236364</td>\n",
       "      <td>0.309091</td>\n",
       "      <td>0.454545</td>\n",
       "      <td>0.000000</td>\n",
       "      <td>0.000000</td>\n",
       "    </tr>\n",
       "    <tr>\n",
       "      <th>5</th>\n",
       "      <td>0.116788</td>\n",
       "      <td>0.313869</td>\n",
       "      <td>0.306569</td>\n",
       "      <td>0.211679</td>\n",
       "      <td>0.051095</td>\n",
       "    </tr>\n",
       "  </tbody>\n",
       "</table>\n",
       "</div>"
      ],
      "text/plain": [
       "animais_silvestres_tom     Tom 1     Tom 2     Tom 3     Tom 4     Tom 5\n",
       "n_tons                                                                  \n",
       "3                       0.236364  0.309091  0.454545  0.000000  0.000000\n",
       "5                       0.116788  0.313869  0.306569  0.211679  0.051095"
      ]
     },
     "metadata": {},
     "output_type": "display_data"
    },
    {
     "name": "stdout",
     "output_type": "stream",
     "text": [
      "Chi2ContingencyResult(statistic=0.33206745937779586, pvalue=0.9876511659424068, dof=4, expected_freq=array([[0.17657598, 0.31147976, 0.3805574 , 0.10583942, 0.02554745],\n",
      "       [0.17657598, 0.31147976, 0.3805574 , 0.10583942, 0.02554745]]))\n"
     ]
    },
    {
     "data": {
      "text/html": [
       "<div>\n",
       "<style scoped>\n",
       "    .dataframe tbody tr th:only-of-type {\n",
       "        vertical-align: middle;\n",
       "    }\n",
       "\n",
       "    .dataframe tbody tr th {\n",
       "        vertical-align: top;\n",
       "    }\n",
       "\n",
       "    .dataframe thead th {\n",
       "        text-align: right;\n",
       "    }\n",
       "</style>\n",
       "<table border=\"1\" class=\"dataframe\">\n",
       "  <thead>\n",
       "    <tr style=\"text-align: right;\">\n",
       "      <th>animais_silvestres_tom</th>\n",
       "      <th>Tom 1</th>\n",
       "      <th>Tom 2</th>\n",
       "      <th>Tom 3</th>\n",
       "      <th>Tom 4</th>\n",
       "      <th>Tom 5</th>\n",
       "    </tr>\n",
       "    <tr>\n",
       "      <th>n_tons</th>\n",
       "      <th></th>\n",
       "      <th></th>\n",
       "      <th></th>\n",
       "      <th></th>\n",
       "      <th></th>\n",
       "    </tr>\n",
       "  </thead>\n",
       "  <tbody>\n",
       "    <tr>\n",
       "      <th>3</th>\n",
       "      <td>0.241830</td>\n",
       "      <td>0.385621</td>\n",
       "      <td>0.372549</td>\n",
       "      <td>0.0000</td>\n",
       "      <td>0.000000</td>\n",
       "    </tr>\n",
       "    <tr>\n",
       "      <th>5</th>\n",
       "      <td>0.175732</td>\n",
       "      <td>0.200837</td>\n",
       "      <td>0.301255</td>\n",
       "      <td>0.1841</td>\n",
       "      <td>0.138075</td>\n",
       "    </tr>\n",
       "  </tbody>\n",
       "</table>\n",
       "</div>"
      ],
      "text/plain": [
       "animais_silvestres_tom     Tom 1     Tom 2     Tom 3   Tom 4     Tom 5\n",
       "n_tons                                                                \n",
       "3                       0.241830  0.385621  0.372549  0.0000  0.000000\n",
       "5                       0.175732  0.200837  0.301255  0.1841  0.138075"
      ]
     },
     "metadata": {},
     "output_type": "display_data"
    },
    {
     "name": "stdout",
     "output_type": "stream",
     "text": [
      "Chi2ContingencyResult(statistic=0.3984048225151739, pvalue=0.9826072973217531, dof=4, expected_freq=array([[0.20878114, 0.29322887, 0.33690212, 0.09205021, 0.06903766],\n",
      "       [0.20878114, 0.29322887, 0.33690212, 0.09205021, 0.06903766]]))\n"
     ]
    }
   ],
   "source": [
    "# display(df.groupby(['publico', 'n_tons'])['ratos_wistar_tom'].value_counts(normalize=True).unstack().fillna(0).astype(float))\n",
    "\n",
    "ratos_q5_tec = df.query('publico == \"Publico Anatomia\"').groupby('n_tons')['ratos_wistar_tom'].value_counts(normalize=True).unstack().fillna(0).astype(float)\n",
    "display(ratos_q5_tec)\n",
    "print(stats.chi2_contingency(ratos_q5_tec))\n",
    "#---\n",
    "ratos_q5_tec = df.query('publico == \"Publico Geral\"').groupby('n_tons')['ratos_wistar_tom'].value_counts(normalize=True).unstack().fillna(0).astype(float)\n",
    "display(ratos_q5_tec)\n",
    "print(stats.chi2_contingency(ratos_q5_tec))\n",
    "#---\n",
    "ratos_q5_tec = df.query('publico == \"Publico Anatomia\"').groupby('n_tons')['animais_silvestres_tom'].value_counts(normalize=True).unstack().fillna(0).astype(float)\n",
    "display(ratos_q5_tec)\n",
    "print(stats.chi2_contingency(ratos_q5_tec))\n",
    "#---\n",
    "ratos_q5_tec = df.query('publico == \"Publico Geral\"').groupby('n_tons')['animais_silvestres_tom'].value_counts(normalize=True).unstack().fillna(0).astype(float)\n",
    "display(ratos_q5_tec)\n",
    "print(stats.chi2_contingency(ratos_q5_tec))\n",
    "#---\n",
    "# display(df.groupby(['publico', 'n_tons'])['animais_silvestres_tom'].value_counts(normalize=True).unstack().fillna(0).astype(float))"
   ]
  }
 ],
 "metadata": {
  "kernelspec": {
   "display_name": "de",
   "language": "python",
   "name": "python3"
  },
  "language_info": {
   "codemirror_mode": {
    "name": "ipython",
    "version": 3
   },
   "file_extension": ".py",
   "mimetype": "text/x-python",
   "name": "python",
   "nbconvert_exporter": "python",
   "pygments_lexer": "ipython3",
   "version": "3.10.9"
  }
 },
 "nbformat": 4,
 "nbformat_minor": 5
}
